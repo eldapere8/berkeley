{
  "nbformat": 4,
  "nbformat_minor": 0,
  "metadata": {
    "kernelspec": {
      "display_name": "Python 3",
      "language": "python",
      "name": "python3"
    },
    "language_info": {
      "codemirror_mode": {
        "name": "ipython",
        "version": 3
      },
      "file_extension": ".py",
      "mimetype": "text/x-python",
      "name": "python",
      "nbconvert_exporter": "python",
      "pygments_lexer": "ipython3",
      "version": "3.8.3"
    },
    "colab": {
      "name": "DataC102_D.ipynb",
      "provenance": [],
      "collapsed_sections": [],
      "toc_visible": true,
      "include_colab_link": true
    }
  },
  "cells": [
    {
      "cell_type": "markdown",
      "metadata": {
        "id": "view-in-github",
        "colab_type": "text"
      },
      "source": [
        "<a href=\"https://colab.research.google.com/github/eldapere8/berkeley/blob/main/Causal_Inference_D.ipynb\" target=\"_parent\"><img src=\"https://colab.research.google.com/assets/colab-badge.svg\" alt=\"Open In Colab\"/></a>"
      ]
    },
    {
      "cell_type": "markdown",
      "metadata": {
        "id": "tYCSUnoccEtW"
      },
      "source": [
        "\n",
        "# Causal Inference and Prediction of Major Depressive Disorder Diagnoses in the Collaborative Psychiatric Epidemiology Surveys\n",
        "\n"
      ]
    },
    {
      "cell_type": "markdown",
      "metadata": {
        "id": "haT_Dy8bc1-V"
      },
      "source": [
        "Elda Pere, Kathleen Navas, Lauren Santilli, Rosey Stone"
      ]
    },
    {
      "cell_type": "markdown",
      "metadata": {
        "id": "C21DHbogc-2O"
      },
      "source": [
        "## ✏️ Data and Library Imports"
      ]
    },
    {
      "cell_type": "code",
      "metadata": {
        "id": "PTN9vMcgLCpC"
      },
      "source": [
        "import pandas as pd\n",
        "import numpy as np\n",
        "from datetime import datetime, timedelta\n",
        "import matplotlib.pyplot as plt\n",
        "import seaborn as sns\n",
        "from google.colab import (drive, files)\n",
        "from sklearn.linear_model import LogisticRegression\n",
        "from matplotlib.gridspec import GridSpec"
      ],
      "execution_count": 1,
      "outputs": []
    },
    {
      "cell_type": "code",
      "metadata": {
        "colab": {
          "base_uri": "https://localhost:8080/"
        },
        "id": "eebLShDkhBfV",
        "outputId": "77988bf9-33de-45d8-9ebe-fe69bc552e75"
      },
      "source": [
        "import os\n",
        "path = \"/content/gdrive\"\n",
        "drive.mount(path, force_remount=True)\n",
        "os.chdir(path)"
      ],
      "execution_count": 2,
      "outputs": [
        {
          "output_type": "stream",
          "text": [
            "Mounted at /content/gdrive\n"
          ],
          "name": "stdout"
        }
      ]
    },
    {
      "cell_type": "code",
      "metadata": {
        "id": "RLBe0D5aLCpM",
        "colab": {
          "base_uri": "https://localhost:8080/",
          "height": 282
        },
        "outputId": "5ecfb00b-6fa1-407e-ad3c-3e511c599ac0"
      },
      "source": [
        "filepath = 'MyDrive/Data C102 Project/'\n",
        "\n",
        "first_df = pd.read_csv(path+\"/\"+filepath+'20240-0001-Data.tsv', sep='\\t')\n",
        "first_df.head()"
      ],
      "execution_count": 3,
      "outputs": [
        {
          "output_type": "stream",
          "text": [
            "/usr/local/lib/python3.7/dist-packages/IPython/core/interactiveshell.py:2718: DtypeWarning: Columns (4,5,10,11,12,15,17,18,19,20,21,22,23,24,25,26,27,28,29,30,31,32,36,37,40,41,43,44,45,46,47,48,50,51,55,56,62,65,66,67,68,69,70,71,75,81,86,87,88,89,92,93,94,572,864,937,938,972,973,975,977,979,980,993,996,1000,1004,1006,1008,1156,1242,1266,1271,1294,1493,1494,1495,1498,1499,1500,1501,1502,1503,1508,1509,1510,1511,1512,1514,1515,1516,1517,1519,1520,1521,1522,1523,1524,1525,1526,1527,1528,1529,1530,1531,1590,1591,1592,1593,1594,1614,1656,1658,1662,1849,1914,1915,1916,1917,1918,1919,1920,1921,1922,1923,1924,1925,1926,1927,1928,1929,1960,1961,1971,1972,1973,1974,1975,1976,1977,1978,1979,1981,1982,1983,1984,1985,2014,2026,2028,2029,2030,2031,2032,2040,2041,2042,2043,2045,2046,2047,2048,2064,2065,2066,2067,2069,2071,2073,2074,2077,2078,2079,2080,2083,2084,2085,2088,2094,2099,2104,2111,2120,2121,2122,2123,2124,2136,2137,2138,2139,2141,2142,2143,2144,2146,2148,2167,2203,2218,2258,2259,2288,2291,2294,2297,2300,2303,2306,2317,2318,2336,2337,2338,2339,2340,2341,2342,2343,2344,2345,2346,2347,2348,2349,2363,2364,2365,2366,2371,2415,2419,2420,2423,2424,2425,2426,2427,2428,2429,2430,2431,2432,2433,2435,2436,2437,2446,2447,2452,2453,2454,2457,2458,2460,2461,2462,2463,2464,2465,2466,2467,2468,2469,2470,2471,2472,2473,2474,2475,2476,2477,2479,2480,2481,2482,2489,2517,2522,2527,2528,2529,2533,2534,2535,2536,2537,2538,2539,2540,2541,2542,2543,2544,2545,2546,2547,2548,2549,2550,2551,2552,2553,2554,2555,2556,2557,2559,2560,2561,2562,2577,2592,2593,2594,2597,2598,2599,2604,2605,2606,2607,2608,2609,2610,2611,2612,2613,2614,2615,2616,2617,2618,2620,2621,2622,2623,2624,2625,2626,2627,2628,2629,2630,2631,2632,2633,2634,2635,2636,2637,2638,2639,2640,2641,2642,2643,2644,2645,2646,2647,2648,2656,2657,2658,2663,2664,2665,2672,2673,2676,2678,2710,2715,2716,2719,2720,2725,2726,2727,2728,2729,2730,2731,2732,2733,2734,2735,2736,2737,2738,2739,2740,2741,2742,2743,2744,2745,2746,2747,2748,2749,2750,2751,2752,2753,2754,2755,2756,2757,2758,2759,2760,2761,2762,2763,2764,2765,2766,2767,2768,2769,2770,2771,2772,2773,2774,2775,2776,2777,2778,2779,2780,2781,2782,2783,2784,2805,2806,2818,2838,2839,2840,2848,2850,2858,2859,2860,2861,2862,2863,2864,2865,2866,2867,2868,2869,2870,2872,2874,2886,2897,2898,2900,2901,2902,2903,2924,2925,2926,2927,2928,2931,2932,2933,2934,2939,2940,2941,2942,2943,2944,2945,2946,2948,2949,2950,2951,2952,2953,2954,2955,2956,2957,2958,2959,2977,2978,2979,2980,2981,2982,2983,2984,2985,2986,2987,2988,2989,2991,2992,2993,2994,3006,3007,3008,3009,3010,3011,3012,3013,3014,3015,3016,3017,3018,3019,3020,3021,3022,3023,3024,3025,3026,3027,3037,3038,3039,3041,3043,3045,3047,3049,3051,3053,3055,3057,3059,3061,3063,3065,3067,3069,3079,3081,3083,3085,3087,3089,3090,3091,3092,3093,3094,3096,3097,3098,3099,3101,3106,3107,3112,3114,3116,3118,3121,3123,3125,3127,3129,3131,3179,3180,3181,3182,3183,3184,3185,3186,3187,3188,3189,3190,3191,3192,3193,3194,3195,3213,3216,3218,3219,3455,3460,3461,3462,3463,3464,3465,3466,3467,3468,3469,3471,3472,3473,3474,3475,3476,3477,3478,3479,3480,3481,3482,3483,3484,3485,3486,3487,3488,3489,3490,3491,3492,3493,3522,3523,3524,3525,3526,3527,3528,3529,3530,3531,3532,3533,3534,3535,3571,3572,3573,3582,3583,3584,3585,3586,3595,3600,3648,3650,3930,3932,3962,4001,4002,4003,4004,4005,4006,4007,4008,4009,4010,4011,4012,4013,4014,4015,4016,4017,4018,4019,4020,4021,4022,4023,4024,4025,4026,4027,4028,4029,4030,4032,4033,4034,4035,4036,4037,4038,4042,4046,4050,4054,4058,4062,4066,4070,4074,4078,4086,4087,4088,4090,4091,4096,4097,4102,4103,4104,4105,4106,4107,4108,4109,4110,4112,4113,4121,4122,4123,4128,4129,4130,4131,4132,4133,4134,4135,4136,4137,4138,4140,4145,4146,4148,4150,4152,4154,4155,4156,4157,4163,4164,4165,4167,4168,4169,4174,4209,4210,4211,4240,4241,4283,4284,4285,4286,4287,4288,4289,4290,4291,4292,4293,4294,4295,4296,4297,4298,4299,4300,4301,4302,4303,4304,4305,4306,4307,4308,4309,4310,4311,4312,4314,4315,4318,4319,4320,4321,4322,4384,4385,4386,5363,5364,5365,5366,5367,5368,5369,5370,5371,5372,5373,5388,5514,5515,5516,5517,5518,5519,5520,5521,5522,5523,5524,5525,5526,5527,5529,5534,5536,5537,5538,5539,5540,5542) have mixed types.Specify dtype option on import or set low_memory=False.\n",
            "  interactivity=interactivity, compiler=compiler, result=result)\n"
          ],
          "name": "stderr"
        },
        {
          "output_type": "execute_result",
          "data": {
            "text/html": [
              "<div>\n",
              "<style scoped>\n",
              "    .dataframe tbody tr th:only-of-type {\n",
              "        vertical-align: middle;\n",
              "    }\n",
              "\n",
              "    .dataframe tbody tr th {\n",
              "        vertical-align: top;\n",
              "    }\n",
              "\n",
              "    .dataframe thead th {\n",
              "        text-align: right;\n",
              "    }\n",
              "</style>\n",
              "<table border=\"1\" class=\"dataframe\">\n",
              "  <thead>\n",
              "    <tr style=\"text-align: right;\">\n",
              "      <th></th>\n",
              "      <th>CASEID</th>\n",
              "      <th>V07312</th>\n",
              "      <th>V07319</th>\n",
              "      <th>V07320</th>\n",
              "      <th>V09154</th>\n",
              "      <th>V08825</th>\n",
              "      <th>V07477</th>\n",
              "      <th>V07292</th>\n",
              "      <th>V07297</th>\n",
              "      <th>V08249</th>\n",
              "      <th>V09346</th>\n",
              "      <th>V09218</th>\n",
              "      <th>V06442</th>\n",
              "      <th>V06443</th>\n",
              "      <th>V06444</th>\n",
              "      <th>V06441</th>\n",
              "      <th>V06445</th>\n",
              "      <th>V06446</th>\n",
              "      <th>V00232</th>\n",
              "      <th>V00233</th>\n",
              "      <th>V00234</th>\n",
              "      <th>V00239</th>\n",
              "      <th>V00252</th>\n",
              "      <th>V00253</th>\n",
              "      <th>V00254</th>\n",
              "      <th>V00255</th>\n",
              "      <th>V00256</th>\n",
              "      <th>V00257</th>\n",
              "      <th>V00264</th>\n",
              "      <th>V00265</th>\n",
              "      <th>V00266</th>\n",
              "      <th>V00267</th>\n",
              "      <th>V00745</th>\n",
              "      <th>V00248</th>\n",
              "      <th>V00249</th>\n",
              "      <th>V00251</th>\n",
              "      <th>V00683</th>\n",
              "      <th>V00684</th>\n",
              "      <th>V00688</th>\n",
              "      <th>V00689</th>\n",
              "      <th>...</th>\n",
              "      <th>V09424</th>\n",
              "      <th>V09425</th>\n",
              "      <th>V09426</th>\n",
              "      <th>V09427</th>\n",
              "      <th>V09428</th>\n",
              "      <th>V09429</th>\n",
              "      <th>V09430</th>\n",
              "      <th>V09431</th>\n",
              "      <th>V09432</th>\n",
              "      <th>V09433</th>\n",
              "      <th>V09434</th>\n",
              "      <th>V07557</th>\n",
              "      <th>V07561</th>\n",
              "      <th>V07726</th>\n",
              "      <th>V08518</th>\n",
              "      <th>V08519</th>\n",
              "      <th>V08551</th>\n",
              "      <th>V08552</th>\n",
              "      <th>V08323</th>\n",
              "      <th>V08325</th>\n",
              "      <th>V08324</th>\n",
              "      <th>V08326</th>\n",
              "      <th>V08375</th>\n",
              "      <th>V08378</th>\n",
              "      <th>V08497</th>\n",
              "      <th>V08217</th>\n",
              "      <th>V09435</th>\n",
              "      <th>V06376</th>\n",
              "      <th>V05239</th>\n",
              "      <th>V05240</th>\n",
              "      <th>V04611</th>\n",
              "      <th>NCSRWTSH</th>\n",
              "      <th>NCSRWTLG</th>\n",
              "      <th>NCNSWTSH</th>\n",
              "      <th>NCNSWTLG</th>\n",
              "      <th>NCNLWTSH</th>\n",
              "      <th>NCNLWTLG</th>\n",
              "      <th>NSNLWT</th>\n",
              "      <th>CPESWTSH</th>\n",
              "      <th>CPESWTLG</th>\n",
              "    </tr>\n",
              "  </thead>\n",
              "  <tbody>\n",
              "    <tr>\n",
              "      <th>0</th>\n",
              "      <td>1</td>\n",
              "      <td></td>\n",
              "      <td></td>\n",
              "      <td></td>\n",
              "      <td>1</td>\n",
              "      <td>2</td>\n",
              "      <td>0</td>\n",
              "      <td>0</td>\n",
              "      <td>2</td>\n",
              "      <td>2</td>\n",
              "      <td>3</td>\n",
              "      <td>3</td>\n",
              "      <td>1</td>\n",
              "      <td></td>\n",
              "      <td></td>\n",
              "      <td>1</td>\n",
              "      <td></td>\n",
              "      <td>1</td>\n",
              "      <td>3</td>\n",
              "      <td>3</td>\n",
              "      <td>3</td>\n",
              "      <td>0</td>\n",
              "      <td>5</td>\n",
              "      <td>5</td>\n",
              "      <td>5</td>\n",
              "      <td>5</td>\n",
              "      <td>5</td>\n",
              "      <td>5</td>\n",
              "      <td>5</td>\n",
              "      <td>5</td>\n",
              "      <td>5</td>\n",
              "      <td>5</td>\n",
              "      <td>1</td>\n",
              "      <td></td>\n",
              "      <td></td>\n",
              "      <td></td>\n",
              "      <td>1</td>\n",
              "      <td>5</td>\n",
              "      <td>5</td>\n",
              "      <td>5</td>\n",
              "      <td>...</td>\n",
              "      <td></td>\n",
              "      <td></td>\n",
              "      <td></td>\n",
              "      <td></td>\n",
              "      <td></td>\n",
              "      <td></td>\n",
              "      <td></td>\n",
              "      <td></td>\n",
              "      <td></td>\n",
              "      <td></td>\n",
              "      <td></td>\n",
              "      <td></td>\n",
              "      <td></td>\n",
              "      <td></td>\n",
              "      <td></td>\n",
              "      <td></td>\n",
              "      <td></td>\n",
              "      <td></td>\n",
              "      <td></td>\n",
              "      <td></td>\n",
              "      <td></td>\n",
              "      <td></td>\n",
              "      <td></td>\n",
              "      <td></td>\n",
              "      <td></td>\n",
              "      <td></td>\n",
              "      <td></td>\n",
              "      <td></td>\n",
              "      <td></td>\n",
              "      <td></td>\n",
              "      <td></td>\n",
              "      <td></td>\n",
              "      <td></td>\n",
              "      <td></td>\n",
              "      <td></td>\n",
              "      <td>11627.4</td>\n",
              "      <td>14040.7</td>\n",
              "      <td>15969</td>\n",
              "      <td>11627.3949</td>\n",
              "      <td>14040.6</td>\n",
              "    </tr>\n",
              "    <tr>\n",
              "      <th>1</th>\n",
              "      <td>2</td>\n",
              "      <td></td>\n",
              "      <td></td>\n",
              "      <td></td>\n",
              "      <td>1</td>\n",
              "      <td>2</td>\n",
              "      <td>0</td>\n",
              "      <td>0</td>\n",
              "      <td>1</td>\n",
              "      <td>1</td>\n",
              "      <td>3</td>\n",
              "      <td>3</td>\n",
              "      <td>1</td>\n",
              "      <td></td>\n",
              "      <td></td>\n",
              "      <td>1</td>\n",
              "      <td></td>\n",
              "      <td>1</td>\n",
              "      <td>3</td>\n",
              "      <td>3</td>\n",
              "      <td>1</td>\n",
              "      <td>0</td>\n",
              "      <td>5</td>\n",
              "      <td>5</td>\n",
              "      <td>5</td>\n",
              "      <td>5</td>\n",
              "      <td>5</td>\n",
              "      <td>5</td>\n",
              "      <td>5</td>\n",
              "      <td>5</td>\n",
              "      <td>5</td>\n",
              "      <td>5</td>\n",
              "      <td>2</td>\n",
              "      <td></td>\n",
              "      <td></td>\n",
              "      <td></td>\n",
              "      <td>1</td>\n",
              "      <td>5</td>\n",
              "      <td>5</td>\n",
              "      <td>5</td>\n",
              "      <td>...</td>\n",
              "      <td></td>\n",
              "      <td></td>\n",
              "      <td></td>\n",
              "      <td></td>\n",
              "      <td></td>\n",
              "      <td></td>\n",
              "      <td></td>\n",
              "      <td></td>\n",
              "      <td></td>\n",
              "      <td></td>\n",
              "      <td></td>\n",
              "      <td></td>\n",
              "      <td></td>\n",
              "      <td></td>\n",
              "      <td></td>\n",
              "      <td></td>\n",
              "      <td></td>\n",
              "      <td></td>\n",
              "      <td></td>\n",
              "      <td></td>\n",
              "      <td></td>\n",
              "      <td></td>\n",
              "      <td></td>\n",
              "      <td></td>\n",
              "      <td></td>\n",
              "      <td></td>\n",
              "      <td></td>\n",
              "      <td></td>\n",
              "      <td></td>\n",
              "      <td></td>\n",
              "      <td></td>\n",
              "      <td></td>\n",
              "      <td></td>\n",
              "      <td></td>\n",
              "      <td></td>\n",
              "      <td>10090.9</td>\n",
              "      <td>12185.2</td>\n",
              "      <td>13858.7</td>\n",
              "      <td>10090.8613</td>\n",
              "      <td>12185.2</td>\n",
              "    </tr>\n",
              "    <tr>\n",
              "      <th>2</th>\n",
              "      <td>3</td>\n",
              "      <td></td>\n",
              "      <td></td>\n",
              "      <td></td>\n",
              "      <td>3</td>\n",
              "      <td>2</td>\n",
              "      <td>0</td>\n",
              "      <td>0</td>\n",
              "      <td>1</td>\n",
              "      <td>1</td>\n",
              "      <td>3</td>\n",
              "      <td>1</td>\n",
              "      <td>1</td>\n",
              "      <td></td>\n",
              "      <td></td>\n",
              "      <td>1</td>\n",
              "      <td></td>\n",
              "      <td>1</td>\n",
              "      <td>3</td>\n",
              "      <td>3</td>\n",
              "      <td>2</td>\n",
              "      <td>0</td>\n",
              "      <td>5</td>\n",
              "      <td>5</td>\n",
              "      <td>5</td>\n",
              "      <td>5</td>\n",
              "      <td>5</td>\n",
              "      <td>5</td>\n",
              "      <td>5</td>\n",
              "      <td>5</td>\n",
              "      <td>5</td>\n",
              "      <td>5</td>\n",
              "      <td>1</td>\n",
              "      <td></td>\n",
              "      <td></td>\n",
              "      <td></td>\n",
              "      <td>1</td>\n",
              "      <td>1</td>\n",
              "      <td></td>\n",
              "      <td></td>\n",
              "      <td>...</td>\n",
              "      <td></td>\n",
              "      <td></td>\n",
              "      <td></td>\n",
              "      <td></td>\n",
              "      <td></td>\n",
              "      <td></td>\n",
              "      <td></td>\n",
              "      <td></td>\n",
              "      <td></td>\n",
              "      <td></td>\n",
              "      <td></td>\n",
              "      <td></td>\n",
              "      <td></td>\n",
              "      <td></td>\n",
              "      <td></td>\n",
              "      <td></td>\n",
              "      <td></td>\n",
              "      <td></td>\n",
              "      <td></td>\n",
              "      <td></td>\n",
              "      <td></td>\n",
              "      <td></td>\n",
              "      <td></td>\n",
              "      <td></td>\n",
              "      <td></td>\n",
              "      <td></td>\n",
              "      <td></td>\n",
              "      <td></td>\n",
              "      <td></td>\n",
              "      <td></td>\n",
              "      <td></td>\n",
              "      <td></td>\n",
              "      <td></td>\n",
              "      <td></td>\n",
              "      <td></td>\n",
              "      <td>10090.9</td>\n",
              "      <td>12185.2</td>\n",
              "      <td>13858.7</td>\n",
              "      <td>10090.8613</td>\n",
              "      <td>12185.2</td>\n",
              "    </tr>\n",
              "    <tr>\n",
              "      <th>3</th>\n",
              "      <td>4</td>\n",
              "      <td></td>\n",
              "      <td></td>\n",
              "      <td></td>\n",
              "      <td>1</td>\n",
              "      <td>9</td>\n",
              "      <td>0</td>\n",
              "      <td>0</td>\n",
              "      <td>2</td>\n",
              "      <td>2</td>\n",
              "      <td>0</td>\n",
              "      <td>0</td>\n",
              "      <td>8</td>\n",
              "      <td>4</td>\n",
              "      <td></td>\n",
              "      <td>1</td>\n",
              "      <td></td>\n",
              "      <td>1</td>\n",
              "      <td>2</td>\n",
              "      <td>2</td>\n",
              "      <td>1</td>\n",
              "      <td>0</td>\n",
              "      <td>5</td>\n",
              "      <td>5</td>\n",
              "      <td>5</td>\n",
              "      <td>5</td>\n",
              "      <td>5</td>\n",
              "      <td>5</td>\n",
              "      <td>5</td>\n",
              "      <td>5</td>\n",
              "      <td>5</td>\n",
              "      <td>5</td>\n",
              "      <td>1</td>\n",
              "      <td></td>\n",
              "      <td></td>\n",
              "      <td></td>\n",
              "      <td>1</td>\n",
              "      <td>1</td>\n",
              "      <td></td>\n",
              "      <td></td>\n",
              "      <td>...</td>\n",
              "      <td></td>\n",
              "      <td></td>\n",
              "      <td></td>\n",
              "      <td></td>\n",
              "      <td></td>\n",
              "      <td></td>\n",
              "      <td></td>\n",
              "      <td></td>\n",
              "      <td></td>\n",
              "      <td></td>\n",
              "      <td></td>\n",
              "      <td></td>\n",
              "      <td></td>\n",
              "      <td></td>\n",
              "      <td></td>\n",
              "      <td></td>\n",
              "      <td></td>\n",
              "      <td></td>\n",
              "      <td></td>\n",
              "      <td></td>\n",
              "      <td></td>\n",
              "      <td></td>\n",
              "      <td></td>\n",
              "      <td></td>\n",
              "      <td></td>\n",
              "      <td></td>\n",
              "      <td></td>\n",
              "      <td></td>\n",
              "      <td></td>\n",
              "      <td></td>\n",
              "      <td></td>\n",
              "      <td></td>\n",
              "      <td></td>\n",
              "      <td></td>\n",
              "      <td></td>\n",
              "      <td>5939.81</td>\n",
              "      <td>6525.43</td>\n",
              "      <td>7919.74</td>\n",
              "      <td>5939.8017</td>\n",
              "      <td>6525.42</td>\n",
              "    </tr>\n",
              "    <tr>\n",
              "      <th>4</th>\n",
              "      <td>5</td>\n",
              "      <td></td>\n",
              "      <td></td>\n",
              "      <td></td>\n",
              "      <td>1</td>\n",
              "      <td>6</td>\n",
              "      <td>0</td>\n",
              "      <td>0</td>\n",
              "      <td>1</td>\n",
              "      <td>1</td>\n",
              "      <td>0</td>\n",
              "      <td>0</td>\n",
              "      <td>8</td>\n",
              "      <td>4</td>\n",
              "      <td></td>\n",
              "      <td>1</td>\n",
              "      <td></td>\n",
              "      <td>1</td>\n",
              "      <td>3</td>\n",
              "      <td>1</td>\n",
              "      <td>1</td>\n",
              "      <td>0</td>\n",
              "      <td>5</td>\n",
              "      <td>5</td>\n",
              "      <td>5</td>\n",
              "      <td>5</td>\n",
              "      <td>5</td>\n",
              "      <td>5</td>\n",
              "      <td>5</td>\n",
              "      <td>5</td>\n",
              "      <td>5</td>\n",
              "      <td>5</td>\n",
              "      <td>2</td>\n",
              "      <td></td>\n",
              "      <td></td>\n",
              "      <td></td>\n",
              "      <td>1</td>\n",
              "      <td>5</td>\n",
              "      <td>5</td>\n",
              "      <td>5</td>\n",
              "      <td>...</td>\n",
              "      <td></td>\n",
              "      <td></td>\n",
              "      <td></td>\n",
              "      <td></td>\n",
              "      <td></td>\n",
              "      <td></td>\n",
              "      <td></td>\n",
              "      <td></td>\n",
              "      <td></td>\n",
              "      <td></td>\n",
              "      <td></td>\n",
              "      <td></td>\n",
              "      <td></td>\n",
              "      <td></td>\n",
              "      <td></td>\n",
              "      <td></td>\n",
              "      <td></td>\n",
              "      <td></td>\n",
              "      <td></td>\n",
              "      <td></td>\n",
              "      <td></td>\n",
              "      <td></td>\n",
              "      <td></td>\n",
              "      <td></td>\n",
              "      <td></td>\n",
              "      <td></td>\n",
              "      <td></td>\n",
              "      <td></td>\n",
              "      <td></td>\n",
              "      <td></td>\n",
              "      <td></td>\n",
              "      <td></td>\n",
              "      <td></td>\n",
              "      <td></td>\n",
              "      <td></td>\n",
              "      <td>4572.45</td>\n",
              "      <td>5023.26</td>\n",
              "      <td>6096.6</td>\n",
              "      <td>4572.4457</td>\n",
              "      <td>5023.25</td>\n",
              "    </tr>\n",
              "  </tbody>\n",
              "</table>\n",
              "<p>5 rows × 5543 columns</p>\n",
              "</div>"
            ],
            "text/plain": [
              "   CASEID V07312 V07319 V07320  ... NCNLWTLG   NSNLWT    CPESWTSH  CPESWTLG\n",
              "0       1                       ...  14040.7    15969  11627.3949   14040.6\n",
              "1       2                       ...  12185.2  13858.7  10090.8613   12185.2\n",
              "2       3                       ...  12185.2  13858.7  10090.8613   12185.2\n",
              "3       4                       ...  6525.43  7919.74   5939.8017   6525.42\n",
              "4       5                       ...  5023.26   6096.6   4572.4457   5023.25\n",
              "\n",
              "[5 rows x 5543 columns]"
            ]
          },
          "metadata": {
            "tags": []
          },
          "execution_count": 3
        }
      ]
    },
    {
      "cell_type": "markdown",
      "metadata": {
        "id": "3-p3vTWTszNy"
      },
      "source": [
        "## 📊 Exploratory Data Analysis\n",
        "\n",
        "\n"
      ]
    },
    {
      "cell_type": "code",
      "metadata": {
        "colab": {
          "base_uri": "https://localhost:8080/"
        },
        "id": "7CPbaQIovqt4",
        "outputId": "eb26cde4-58c2-4599-e4a3-bacaa4799085"
      },
      "source": [
        "first_df.isnull().values.any()"
      ],
      "execution_count": 4,
      "outputs": [
        {
          "output_type": "execute_result",
          "data": {
            "text/plain": [
              "False"
            ]
          },
          "metadata": {
            "tags": []
          },
          "execution_count": 4
        }
      ]
    },
    {
      "cell_type": "code",
      "metadata": {
        "colab": {
          "base_uri": "https://localhost:8080/"
        },
        "id": "4qwD28XgvrEb",
        "outputId": "205974b8-c425-4b8c-a1e8-515692f801c3"
      },
      "source": [
        "first_df.isnull().sum().sum()"
      ],
      "execution_count": 5,
      "outputs": [
        {
          "output_type": "execute_result",
          "data": {
            "text/plain": [
              "0"
            ]
          },
          "metadata": {
            "tags": []
          },
          "execution_count": 5
        }
      ]
    },
    {
      "cell_type": "markdown",
      "metadata": {
        "id": "UuiZxu1YdOnn"
      },
      "source": [
        "Choosing variables corresponding to survey responses about depression diagnosis and factors that may affect it. \n",
        "\n",
        "Link to codebook with questions corresponding to their variable number: \n",
        "https://doi.org/10.3886/ICPSR20240.v8 "
      ]
    },
    {
      "cell_type": "code",
      "metadata": {
        "id": "qYf9Bm7WvNTz"
      },
      "source": [
        "treatment_vars = ['V05874', 'V05875', 'V05876', 'V05894']\n",
        "outcome_var = 'V07876'\n",
        "confounder_vars = ['V05795', 'V05879', 'V05884', 'V06929', 'V06932', 'RANCEST', 'V08992', 'V07306', 'V08683', 'V03080', 'V03081']\n",
        "iv = 'V05899'"
      ],
      "execution_count": 6,
      "outputs": []
    },
    {
      "cell_type": "code",
      "metadata": {
        "colab": {
          "base_uri": "https://localhost:8080/"
        },
        "id": "48rhy-ZmvNX3",
        "outputId": "215a0c92-4c6a-48d3-889f-f0610ed29414"
      },
      "source": [
        "second_df = first_df[treatment_vars + [outcome_var] + confounder_vars + [iv]].iloc[:-1]\n",
        "second_df.shape"
      ],
      "execution_count": 7,
      "outputs": [
        {
          "output_type": "execute_result",
          "data": {
            "text/plain": [
              "(20012, 17)"
            ]
          },
          "metadata": {
            "tags": []
          },
          "execution_count": 7
        }
      ]
    },
    {
      "cell_type": "code",
      "metadata": {
        "colab": {
          "base_uri": "https://localhost:8080/",
          "height": 197
        },
        "id": "nL3sOdI8yinw",
        "outputId": "72fb7ed4-aaee-4b94-a05a-efbfd06b99b4"
      },
      "source": [
        "second_df.head()"
      ],
      "execution_count": 8,
      "outputs": [
        {
          "output_type": "execute_result",
          "data": {
            "text/html": [
              "<div>\n",
              "<style scoped>\n",
              "    .dataframe tbody tr th:only-of-type {\n",
              "        vertical-align: middle;\n",
              "    }\n",
              "\n",
              "    .dataframe tbody tr th {\n",
              "        vertical-align: top;\n",
              "    }\n",
              "\n",
              "    .dataframe thead th {\n",
              "        text-align: right;\n",
              "    }\n",
              "</style>\n",
              "<table border=\"1\" class=\"dataframe\">\n",
              "  <thead>\n",
              "    <tr style=\"text-align: right;\">\n",
              "      <th></th>\n",
              "      <th>V05874</th>\n",
              "      <th>V05875</th>\n",
              "      <th>V05876</th>\n",
              "      <th>V05894</th>\n",
              "      <th>V07876</th>\n",
              "      <th>V05795</th>\n",
              "      <th>V05879</th>\n",
              "      <th>V05884</th>\n",
              "      <th>V06929</th>\n",
              "      <th>V06932</th>\n",
              "      <th>RANCEST</th>\n",
              "      <th>V08992</th>\n",
              "      <th>V07306</th>\n",
              "      <th>V08683</th>\n",
              "      <th>V03080</th>\n",
              "      <th>V03081</th>\n",
              "      <th>V05899</th>\n",
              "    </tr>\n",
              "  </thead>\n",
              "  <tbody>\n",
              "    <tr>\n",
              "      <th>0</th>\n",
              "      <td></td>\n",
              "      <td></td>\n",
              "      <td></td>\n",
              "      <td></td>\n",
              "      <td>5</td>\n",
              "      <td></td>\n",
              "      <td></td>\n",
              "      <td></td>\n",
              "      <td></td>\n",
              "      <td></td>\n",
              "      <td>4</td>\n",
              "      <td>1</td>\n",
              "      <td>36</td>\n",
              "      <td>105000</td>\n",
              "      <td></td>\n",
              "      <td></td>\n",
              "      <td></td>\n",
              "    </tr>\n",
              "    <tr>\n",
              "      <th>1</th>\n",
              "      <td></td>\n",
              "      <td></td>\n",
              "      <td></td>\n",
              "      <td></td>\n",
              "      <td>5</td>\n",
              "      <td></td>\n",
              "      <td></td>\n",
              "      <td></td>\n",
              "      <td></td>\n",
              "      <td></td>\n",
              "      <td>4</td>\n",
              "      <td>1</td>\n",
              "      <td>34</td>\n",
              "      <td>109500</td>\n",
              "      <td></td>\n",
              "      <td></td>\n",
              "      <td></td>\n",
              "    </tr>\n",
              "    <tr>\n",
              "      <th>2</th>\n",
              "      <td></td>\n",
              "      <td></td>\n",
              "      <td></td>\n",
              "      <td></td>\n",
              "      <td>5</td>\n",
              "      <td></td>\n",
              "      <td></td>\n",
              "      <td></td>\n",
              "      <td></td>\n",
              "      <td></td>\n",
              "      <td>4</td>\n",
              "      <td>1</td>\n",
              "      <td>28</td>\n",
              "      <td>44299</td>\n",
              "      <td></td>\n",
              "      <td></td>\n",
              "      <td></td>\n",
              "    </tr>\n",
              "    <tr>\n",
              "      <th>3</th>\n",
              "      <td></td>\n",
              "      <td></td>\n",
              "      <td></td>\n",
              "      <td></td>\n",
              "      <td>1</td>\n",
              "      <td></td>\n",
              "      <td></td>\n",
              "      <td></td>\n",
              "      <td></td>\n",
              "      <td></td>\n",
              "      <td>6</td>\n",
              "      <td>1</td>\n",
              "      <td>50</td>\n",
              "      <td>200000</td>\n",
              "      <td></td>\n",
              "      <td></td>\n",
              "      <td></td>\n",
              "    </tr>\n",
              "    <tr>\n",
              "      <th>4</th>\n",
              "      <td></td>\n",
              "      <td></td>\n",
              "      <td></td>\n",
              "      <td></td>\n",
              "      <td>5</td>\n",
              "      <td></td>\n",
              "      <td></td>\n",
              "      <td></td>\n",
              "      <td></td>\n",
              "      <td></td>\n",
              "      <td>6</td>\n",
              "      <td>1</td>\n",
              "      <td>53</td>\n",
              "      <td>74999</td>\n",
              "      <td></td>\n",
              "      <td></td>\n",
              "      <td></td>\n",
              "    </tr>\n",
              "  </tbody>\n",
              "</table>\n",
              "</div>"
            ],
            "text/plain": [
              "  V05874 V05875 V05876 V05894 V07876  ... V07306  V08683 V03080 V03081 V05899\n",
              "0                                  5  ...     36  105000                     \n",
              "1                                  5  ...     34  109500                     \n",
              "2                                  5  ...     28   44299                     \n",
              "3                                  1  ...     50  200000                     \n",
              "4                                  5  ...     53   74999                     \n",
              "\n",
              "[5 rows x 17 columns]"
            ]
          },
          "metadata": {
            "tags": []
          },
          "execution_count": 8
        }
      ]
    },
    {
      "cell_type": "code",
      "metadata": {
        "colab": {
          "base_uri": "https://localhost:8080/"
        },
        "id": "kjnWIbtQtWVE",
        "outputId": "e03aebc7-c1e7-43df-d043-101971b23420"
      },
      "source": [
        "# Filter for respondents who have a non-null answer for race\n",
        "eda_df = second_df[second_df['RANCEST'] > 0]\n",
        "eda_df.shape"
      ],
      "execution_count": 9,
      "outputs": [
        {
          "output_type": "execute_result",
          "data": {
            "text/plain": [
              "(20012, 17)"
            ]
          },
          "metadata": {
            "tags": []
          },
          "execution_count": 9
        }
      ]
    },
    {
      "cell_type": "code",
      "metadata": {
        "colab": {
          "base_uri": "https://localhost:8080/",
          "height": 227
        },
        "id": "gmmPSUfPtlwN",
        "outputId": "626fc5e9-d14e-48d1-9b6e-d6dfc8939f54"
      },
      "source": [
        "eda_df['dummy'] = 1\n",
        "eda_df = eda_df[['RANCEST','dummy']]\n",
        "title_type = eda_df.groupby('RANCEST').agg('count')\n",
        "title_type.head()"
      ],
      "execution_count": 10,
      "outputs": [
        {
          "output_type": "execute_result",
          "data": {
            "text/html": [
              "<div>\n",
              "<style scoped>\n",
              "    .dataframe tbody tr th:only-of-type {\n",
              "        vertical-align: middle;\n",
              "    }\n",
              "\n",
              "    .dataframe tbody tr th {\n",
              "        vertical-align: top;\n",
              "    }\n",
              "\n",
              "    .dataframe thead th {\n",
              "        text-align: right;\n",
              "    }\n",
              "</style>\n",
              "<table border=\"1\" class=\"dataframe\">\n",
              "  <thead>\n",
              "    <tr style=\"text-align: right;\">\n",
              "      <th></th>\n",
              "      <th>dummy</th>\n",
              "    </tr>\n",
              "    <tr>\n",
              "      <th>RANCEST</th>\n",
              "      <th></th>\n",
              "    </tr>\n",
              "  </thead>\n",
              "  <tbody>\n",
              "    <tr>\n",
              "      <th>1</th>\n",
              "      <td>520</td>\n",
              "    </tr>\n",
              "    <tr>\n",
              "      <th>2</th>\n",
              "      <td>508</td>\n",
              "    </tr>\n",
              "    <tr>\n",
              "      <th>3</th>\n",
              "      <td>600</td>\n",
              "    </tr>\n",
              "    <tr>\n",
              "      <th>4</th>\n",
              "      <td>656</td>\n",
              "    </tr>\n",
              "    <tr>\n",
              "      <th>5</th>\n",
              "      <td>577</td>\n",
              "    </tr>\n",
              "  </tbody>\n",
              "</table>\n",
              "</div>"
            ],
            "text/plain": [
              "         dummy\n",
              "RANCEST       \n",
              "1          520\n",
              "2          508\n",
              "3          600\n",
              "4          656\n",
              "5          577"
            ]
          },
          "metadata": {
            "tags": []
          },
          "execution_count": 10
        }
      ]
    },
    {
      "cell_type": "code",
      "metadata": {
        "colab": {
          "base_uri": "https://localhost:8080/",
          "height": 538
        },
        "id": "lK35ui-itZRA",
        "outputId": "31519ee2-e742-4f96-ab52-5718b4c3e38a"
      },
      "source": [
        "# Bar chart to visualize distribution of races in data \n",
        "\n",
        "type_labels = ['VIETNAMESE','FILIPINO','CHINESE','ALL OTHER ASIAN','CUBAN','PUERTO RICAN','MEXICAN','ALL OTHER HISPANIC','AFRO CARIBBEAN','AFRICAN AMERICAN','NON LATINO WHITES','ALL OTHER'] \n",
        "title_type['prop'] = title_type['dummy']/sum(title_type['dummy'])\n",
        "plt.figure(figsize=(10,7)) \n",
        "plt.title('Distribution of Reported Races in CPES Surveys', size=20)\n",
        "plt.xlabel('Race/Ancestry', size = 15)\n",
        "plt.ylabel('Proportion', size = 15)\n",
        "plt.xticks(rotation = 45, ha='right')\n",
        "char = plt.bar(x=type_labels, height=title_type['prop']);"
      ],
      "execution_count": 11,
      "outputs": [
        {
          "output_type": "display_data",
          "data": {
            "image/png": "[encoded data removed]",
            "text/plain": [
              "<Figure size 720x504 with 1 Axes>"
            ]
          },
          "metadata": {
            "tags": [],
            "needs_background": "light"
          }
        }
      ]
    },
    {
      "cell_type": "code",
      "metadata": {
        "colab": {
          "base_uri": "https://localhost:8080/",
          "height": 197
        },
        "id": "VBBHtDRTt6i6",
        "outputId": "3df7efb1-9adb-45ef-cc33-8c837d6e8320"
      },
      "source": [
        "# Filter out individuals who's responses were invalid, i.e. age should be above 17 to be considered an adult\n",
        "\n",
        "eda_2 = second_df[(second_df['V07306'] > 17)]\n",
        "eda_2 = eda_2[['V07306']]\n",
        "eda_2.head()"
      ],
      "execution_count": 12,
      "outputs": [
        {
          "output_type": "execute_result",
          "data": {
            "text/html": [
              "<div>\n",
              "<style scoped>\n",
              "    .dataframe tbody tr th:only-of-type {\n",
              "        vertical-align: middle;\n",
              "    }\n",
              "\n",
              "    .dataframe tbody tr th {\n",
              "        vertical-align: top;\n",
              "    }\n",
              "\n",
              "    .dataframe thead th {\n",
              "        text-align: right;\n",
              "    }\n",
              "</style>\n",
              "<table border=\"1\" class=\"dataframe\">\n",
              "  <thead>\n",
              "    <tr style=\"text-align: right;\">\n",
              "      <th></th>\n",
              "      <th>V07306</th>\n",
              "    </tr>\n",
              "  </thead>\n",
              "  <tbody>\n",
              "    <tr>\n",
              "      <th>0</th>\n",
              "      <td>36</td>\n",
              "    </tr>\n",
              "    <tr>\n",
              "      <th>1</th>\n",
              "      <td>34</td>\n",
              "    </tr>\n",
              "    <tr>\n",
              "      <th>2</th>\n",
              "      <td>28</td>\n",
              "    </tr>\n",
              "    <tr>\n",
              "      <th>3</th>\n",
              "      <td>50</td>\n",
              "    </tr>\n",
              "    <tr>\n",
              "      <th>4</th>\n",
              "      <td>53</td>\n",
              "    </tr>\n",
              "  </tbody>\n",
              "</table>\n",
              "</div>"
            ],
            "text/plain": [
              "   V07306\n",
              "0      36\n",
              "1      34\n",
              "2      28\n",
              "3      50\n",
              "4      53"
            ]
          },
          "metadata": {
            "tags": []
          },
          "execution_count": 12
        }
      ]
    },
    {
      "cell_type": "code",
      "metadata": {
        "colab": {
          "base_uri": "https://localhost:8080/",
          "height": 473
        },
        "id": "mwdGYXDQt8sF",
        "outputId": "e6632909-9197-498c-aabb-2825cea22f9b"
      },
      "source": [
        "# Histogram displaying distribution of respondents ages\n",
        "\n",
        "plt.figure(figsize=(10,7)) \n",
        "plt.title('Distribution of Reported Ages in CPES Surveys', size=20)\n",
        "plt.xlabel('Age', size = 15)\n",
        "plt.ylabel('Frequency', size = 15)\n",
        "plt.yticks(size=15, ha='right')\n",
        "plt.xticks(size=15, ha='right')\n",
        "plt.hist(eda_2['V07306']);"
      ],
      "execution_count": 13,
      "outputs": [
        {
          "output_type": "display_data",
          "data": {
            "image/png": "[encoded data removed]",
            "text/plain": [
              "<Figure size 720x504 with 1 Axes>"
            ]
          },
          "metadata": {
            "tags": [],
            "needs_background": "light"
          }
        }
      ]
    },
    {
      "cell_type": "code",
      "metadata": {
        "id": "B_HEqHUSLCpP",
        "colab": {
          "base_uri": "https://localhost:8080/",
          "height": 334
        },
        "outputId": "b45492de-7288-412b-810f-9cd3a85c34b4"
      },
      "source": [
        "sns.distplot(second_df['V07876'].replace(' ', -1).astype(int));"
      ],
      "execution_count": 14,
      "outputs": [
        {
          "output_type": "stream",
          "text": [
            "/usr/local/lib/python3.7/dist-packages/seaborn/distributions.py:2557: FutureWarning: `distplot` is a deprecated function and will be removed in a future version. Please adapt your code to use either `displot` (a figure-level function with similar flexibility) or `histplot` (an axes-level function for histograms).\n",
            "  warnings.warn(msg, FutureWarning)\n"
          ],
          "name": "stderr"
        },
        {
          "output_type": "display_data",
          "data": {
            "image/png": "[encoded data removed]",
            "text/plain": [
              "<Figure size 432x288 with 1 Axes>"
            ]
          },
          "metadata": {
            "tags": [],
            "needs_background": "light"
          }
        }
      ]
    },
    {
      "cell_type": "code",
      "metadata": {
        "id": "c8mPSPoZLCpQ",
        "colab": {
          "base_uri": "https://localhost:8080/",
          "height": 1000
        },
        "outputId": "473e9449-be9e-4bc1-c6de-99aef0faeb21"
      },
      "source": [
        "for column in second_df.columns:\n",
        "    sns.distplot(second_df[column].replace(' ', -1).astype(int));\n",
        "    plt.show();"
      ],
      "execution_count": 15,
      "outputs": [
        {
          "output_type": "stream",
          "text": [
            "/usr/local/lib/python3.7/dist-packages/seaborn/distributions.py:2557: FutureWarning: `distplot` is a deprecated function and will be removed in a future version. Please adapt your code to use either `displot` (a figure-level function with similar flexibility) or `histplot` (an axes-level function for histograms).\n",
            "  warnings.warn(msg, FutureWarning)\n"
          ],
          "name": "stderr"
        },
        {
          "output_type": "display_data",
          "data": {
            "image/png": "[encoded data removed]",
            "text/plain": [
              "<Figure size 432x288 with 1 Axes>"
            ]
          },
          "metadata": {
            "tags": [],
            "needs_background": "light"
          }
        },
        {
          "output_type": "stream",
          "text": [
            "/usr/local/lib/python3.7/dist-packages/seaborn/distributions.py:2557: FutureWarning: `distplot` is a deprecated function and will be removed in a future version. Please adapt your code to use either `displot` (a figure-level function with similar flexibility) or `histplot` (an axes-level function for histograms).\n",
            "  warnings.warn(msg, FutureWarning)\n"
          ],
          "name": "stderr"
        },
        {
          "output_type": "display_data",
          "data": {
            "image/png": "[encoded data removed]",
            "text/plain": [
              "<Figure size 432x288 with 1 Axes>"
            ]
          },
          "metadata": {
            "tags": [],
            "needs_background": "light"
          }
        },
        {
          "output_type": "stream",
          "text": [
            "/usr/local/lib/python3.7/dist-packages/seaborn/distributions.py:2557: FutureWarning: `distplot` is a deprecated function and will be removed in a future version. Please adapt your code to use either `displot` (a figure-level function with similar flexibility) or `histplot` (an axes-level function for histograms).\n",
            "  warnings.warn(msg, FutureWarning)\n"
          ],
          "name": "stderr"
        },
        {
          "output_type": "display_data",
          "data": {
            "image/png": "[encoded data removed]",
            "text/plain": [
              "<Figure size 432x288 with 1 Axes>"
            ]
          },
          "metadata": {
            "tags": [],
            "needs_background": "light"
          }
        },
        {
          "output_type": "stream",
          "text": [
            "/usr/local/lib/python3.7/dist-packages/seaborn/distributions.py:2557: FutureWarning: `distplot` is a deprecated function and will be removed in a future version. Please adapt your code to use either `displot` (a figure-level function with similar flexibility) or `histplot` (an axes-level function for histograms).\n",
            "  warnings.warn(msg, FutureWarning)\n"
          ],
          "name": "stderr"
        },
        {
          "output_type": "display_data",
          "data": {
            "image/png": "[encoded data removed]",
            "text/plain": [
              "<Figure size 432x288 with 1 Axes>"
            ]
          },
          "metadata": {
            "tags": [],
            "needs_background": "light"
          }
        },
        {
          "output_type": "stream",
          "text": [
            "/usr/local/lib/python3.7/dist-packages/seaborn/distributions.py:2557: FutureWarning: `distplot` is a deprecated function and will be removed in a future version. Please adapt your code to use either `displot` (a figure-level function with similar flexibility) or `histplot` (an axes-level function for histograms).\n",
            "  warnings.warn(msg, FutureWarning)\n"
          ],
          "name": "stderr"
        },
        {
          "output_type": "display_data",
          "data": {
            "image/png": "[encoded data removed]",
            "text/plain": [
              "<Figure size 432x288 with 1 Axes>"
            ]
          },
          "metadata": {
            "tags": [],
            "needs_background": "light"
          }
        },
        {
          "output_type": "stream",
          "text": [
            "/usr/local/lib/python3.7/dist-packages/seaborn/distributions.py:2557: FutureWarning: `distplot` is a deprecated function and will be removed in a future version. Please adapt your code to use either `displot` (a figure-level function with similar flexibility) or `histplot` (an axes-level function for histograms).\n",
            "  warnings.warn(msg, FutureWarning)\n"
          ],
          "name": "stderr"
        },
        {
          "output_type": "display_data",
          "data": {
            "image/png": "[encoded data removed]",
            "text/plain": [
              "<Figure size 432x288 with 1 Axes>"
            ]
          },
          "metadata": {
            "tags": [],
            "needs_background": "light"
          }
        },
        {
          "output_type": "stream",
          "text": [
            "/usr/local/lib/python3.7/dist-packages/seaborn/distributions.py:2557: FutureWarning: `distplot` is a deprecated function and will be removed in a future version. Please adapt your code to use either `displot` (a figure-level function with similar flexibility) or `histplot` (an axes-level function for histograms).\n",
            "  warnings.warn(msg, FutureWarning)\n"
          ],
          "name": "stderr"
        },
        {
          "output_type": "display_data",
          "data": {
            "image/png": "[encoded data removed]",
            "text/plain": [
              "<Figure size 432x288 with 1 Axes>"
            ]
          },
          "metadata": {
            "tags": [],
            "needs_background": "light"
          }
        },
        {
          "output_type": "stream",
          "text": [
            "/usr/local/lib/python3.7/dist-packages/seaborn/distributions.py:2557: FutureWarning: `distplot` is a deprecated function and will be removed in a future version. Please adapt your code to use either `displot` (a figure-level function with similar flexibility) or `histplot` (an axes-level function for histograms).\n",
            "  warnings.warn(msg, FutureWarning)\n"
          ],
          "name": "stderr"
        },
        {
          "output_type": "display_data",
          "data": {
            "image/png": "[encoded data removed]",
            "text/plain": [
              "<Figure size 432x288 with 1 Axes>"
            ]
          },
          "metadata": {
            "tags": [],
            "needs_background": "light"
          }
        },
        {
          "output_type": "stream",
          "text": [
            "/usr/local/lib/python3.7/dist-packages/seaborn/distributions.py:2557: FutureWarning: `distplot` is a deprecated function and will be removed in a future version. Please adapt your code to use either `displot` (a figure-level function with similar flexibility) or `histplot` (an axes-level function for histograms).\n",
            "  warnings.warn(msg, FutureWarning)\n"
          ],
          "name": "stderr"
        },
        {
          "output_type": "display_data",
          "data": {
            "image/png": "[encoded data removed]",
            "text/plain": [
              "<Figure size 432x288 with 1 Axes>"
            ]
          },
          "metadata": {
            "tags": [],
            "needs_background": "light"
          }
        },
        {
          "output_type": "stream",
          "text": [
            "/usr/local/lib/python3.7/dist-packages/seaborn/distributions.py:2557: FutureWarning: `distplot` is a deprecated function and will be removed in a future version. Please adapt your code to use either `displot` (a figure-level function with similar flexibility) or `histplot` (an axes-level function for histograms).\n",
            "  warnings.warn(msg, FutureWarning)\n"
          ],
          "name": "stderr"
        },
        {
          "output_type": "display_data",
          "data": {
            "image/png": "[encoded data removed]",
            "text/plain": [
              "<Figure size 432x288 with 1 Axes>"
            ]
          },
          "metadata": {
            "tags": [],
            "needs_background": "light"
          }
        },
        {
          "output_type": "stream",
          "text": [
            "/usr/local/lib/python3.7/dist-packages/seaborn/distributions.py:2557: FutureWarning: `distplot` is a deprecated function and will be removed in a future version. Please adapt your code to use either `displot` (a figure-level function with similar flexibility) or `histplot` (an axes-level function for histograms).\n",
            "  warnings.warn(msg, FutureWarning)\n"
          ],
          "name": "stderr"
        },
        {
          "output_type": "display_data",
          "data": {
            "image/png": "[encoded data removed]",
            "text/plain": [
              "<Figure size 432x288 with 1 Axes>"
            ]
          },
          "metadata": {
            "tags": [],
            "needs_background": "light"
          }
        },
        {
          "output_type": "stream",
          "text": [
            "/usr/local/lib/python3.7/dist-packages/seaborn/distributions.py:2557: FutureWarning: `distplot` is a deprecated function and will be removed in a future version. Please adapt your code to use either `displot` (a figure-level function with similar flexibility) or `histplot` (an axes-level function for histograms).\n",
            "  warnings.warn(msg, FutureWarning)\n"
          ],
          "name": "stderr"
        },
        {
          "output_type": "display_data",
          "data": {
            "image/png": "[encoded data removed]",
            "text/plain": [
              "<Figure size 432x288 with 1 Axes>"
            ]
          },
          "metadata": {
            "tags": [],
            "needs_background": "light"
          }
        },
        {
          "output_type": "stream",
          "text": [
            "/usr/local/lib/python3.7/dist-packages/seaborn/distributions.py:2557: FutureWarning: `distplot` is a deprecated function and will be removed in a future version. Please adapt your code to use either `displot` (a figure-level function with similar flexibility) or `histplot` (an axes-level function for histograms).\n",
            "  warnings.warn(msg, FutureWarning)\n"
          ],
          "name": "stderr"
        },
        {
          "output_type": "display_data",
          "data": {
            "image/png": "[encoded data removed]",
            "text/plain": [
              "<Figure size 432x288 with 1 Axes>"
            ]
          },
          "metadata": {
            "tags": [],
            "needs_background": "light"
          }
        },
        {
          "output_type": "stream",
          "text": [
            "/usr/local/lib/python3.7/dist-packages/seaborn/distributions.py:2557: FutureWarning: `distplot` is a deprecated function and will be removed in a future version. Please adapt your code to use either `displot` (a figure-level function with similar flexibility) or `histplot` (an axes-level function for histograms).\n",
            "  warnings.warn(msg, FutureWarning)\n"
          ],
          "name": "stderr"
        },
        {
          "output_type": "display_data",
          "data": {
            "image/png": "[encoded data removed]",
            "text/plain": [
              "<Figure size 432x288 with 1 Axes>"
            ]
          },
          "metadata": {
            "tags": [],
            "needs_background": "light"
          }
        },
        {
          "output_type": "stream",
          "text": [
            "/usr/local/lib/python3.7/dist-packages/seaborn/distributions.py:2557: FutureWarning: `distplot` is a deprecated function and will be removed in a future version. Please adapt your code to use either `displot` (a figure-level function with similar flexibility) or `histplot` (an axes-level function for histograms).\n",
            "  warnings.warn(msg, FutureWarning)\n"
          ],
          "name": "stderr"
        },
        {
          "output_type": "display_data",
          "data": {
            "image/png": "[encoded data removed]",
            "text/plain": [
              "<Figure size 432x288 with 1 Axes>"
            ]
          },
          "metadata": {
            "tags": [],
            "needs_background": "light"
          }
        },
        {
          "output_type": "stream",
          "text": [
            "/usr/local/lib/python3.7/dist-packages/seaborn/distributions.py:2557: FutureWarning: `distplot` is a deprecated function and will be removed in a future version. Please adapt your code to use either `displot` (a figure-level function with similar flexibility) or `histplot` (an axes-level function for histograms).\n",
            "  warnings.warn(msg, FutureWarning)\n"
          ],
          "name": "stderr"
        },
        {
          "output_type": "display_data",
          "data": {
            "image/png": "[encoded data removed]",
            "text/plain": [
              "<Figure size 432x288 with 1 Axes>"
            ]
          },
          "metadata": {
            "tags": [],
            "needs_background": "light"
          }
        },
        {
          "output_type": "stream",
          "text": [
            "/usr/local/lib/python3.7/dist-packages/seaborn/distributions.py:2557: FutureWarning: `distplot` is a deprecated function and will be removed in a future version. Please adapt your code to use either `displot` (a figure-level function with similar flexibility) or `histplot` (an axes-level function for histograms).\n",
            "  warnings.warn(msg, FutureWarning)\n"
          ],
          "name": "stderr"
        },
        {
          "output_type": "display_data",
          "data": {
            "image/png": "[encoded data removed]",
            "text/plain": [
              "<Figure size 432x288 with 1 Axes>"
            ]
          },
          "metadata": {
            "tags": [],
            "needs_background": "light"
          }
        }
      ]
    },
    {
      "cell_type": "code",
      "metadata": {
        "colab": {
          "base_uri": "https://localhost:8080/",
          "height": 367
        },
        "id": "b8knvNB3gc-2",
        "outputId": "5918598c-975d-4b98-d2af-97bf45ca1b35"
      },
      "source": [
        "visual_income = second_df[['V08683']].replace(' ', -1).astype(int)\n",
        "sns.distplot(visual_income[visual_income['V08683']>0]);\n",
        "plt.xlabel('Income');\n",
        "plt.title('Participant Household Income Distribution, Capped at 200K')"
      ],
      "execution_count": 16,
      "outputs": [
        {
          "output_type": "stream",
          "text": [
            "/usr/local/lib/python3.7/dist-packages/seaborn/distributions.py:2557: FutureWarning: `distplot` is a deprecated function and will be removed in a future version. Please adapt your code to use either `displot` (a figure-level function with similar flexibility) or `histplot` (an axes-level function for histograms).\n",
            "  warnings.warn(msg, FutureWarning)\n"
          ],
          "name": "stderr"
        },
        {
          "output_type": "execute_result",
          "data": {
            "text/plain": [
              "Text(0.5, 1.0, 'Participant Household Income Distribution, Capped at 200K')"
            ]
          },
          "metadata": {
            "tags": []
          },
          "execution_count": 16
        },
        {
          "output_type": "display_data",
          "data": {
            "image/png": "[encoded data removed]",
            "text/plain": [
              "<Figure size 432x288 with 1 Axes>"
            ]
          },
          "metadata": {
            "tags": [],
            "needs_background": "light"
          }
        }
      ]
    },
    {
      "cell_type": "code",
      "metadata": {
        "id": "lC2M3RLnLCpR",
        "colab": {
          "base_uri": "https://localhost:8080/",
          "height": 197
        },
        "outputId": "f9ccc759-9a13-43db-dae9-f3df56c7dc2a"
      },
      "source": [
        "# Remove the following unneeded columns: V05894, V05884, V06932, V03080, V03081\n",
        "third_df = second_df.drop(columns = ['V05894', 'V05884', 'V06932', 'V03080', 'V03081'], axis = 1)\n",
        "third_df = third_df.replace(' ', -1).astype(int)\n",
        "third_df = third_df[third_df['V07876'] > -1]\n",
        "third_df.head()"
      ],
      "execution_count": 17,
      "outputs": [
        {
          "output_type": "execute_result",
          "data": {
            "text/html": [
              "<div>\n",
              "<style scoped>\n",
              "    .dataframe tbody tr th:only-of-type {\n",
              "        vertical-align: middle;\n",
              "    }\n",
              "\n",
              "    .dataframe tbody tr th {\n",
              "        vertical-align: top;\n",
              "    }\n",
              "\n",
              "    .dataframe thead th {\n",
              "        text-align: right;\n",
              "    }\n",
              "</style>\n",
              "<table border=\"1\" class=\"dataframe\">\n",
              "  <thead>\n",
              "    <tr style=\"text-align: right;\">\n",
              "      <th></th>\n",
              "      <th>V05874</th>\n",
              "      <th>V05875</th>\n",
              "      <th>V05876</th>\n",
              "      <th>V07876</th>\n",
              "      <th>V05795</th>\n",
              "      <th>V05879</th>\n",
              "      <th>V06929</th>\n",
              "      <th>RANCEST</th>\n",
              "      <th>V08992</th>\n",
              "      <th>V07306</th>\n",
              "      <th>V08683</th>\n",
              "      <th>V05899</th>\n",
              "    </tr>\n",
              "  </thead>\n",
              "  <tbody>\n",
              "    <tr>\n",
              "      <th>0</th>\n",
              "      <td>-1</td>\n",
              "      <td>-1</td>\n",
              "      <td>-1</td>\n",
              "      <td>5</td>\n",
              "      <td>-1</td>\n",
              "      <td>-1</td>\n",
              "      <td>-1</td>\n",
              "      <td>4</td>\n",
              "      <td>1</td>\n",
              "      <td>36</td>\n",
              "      <td>105000</td>\n",
              "      <td>-1</td>\n",
              "    </tr>\n",
              "    <tr>\n",
              "      <th>1</th>\n",
              "      <td>-1</td>\n",
              "      <td>-1</td>\n",
              "      <td>-1</td>\n",
              "      <td>5</td>\n",
              "      <td>-1</td>\n",
              "      <td>-1</td>\n",
              "      <td>-1</td>\n",
              "      <td>4</td>\n",
              "      <td>1</td>\n",
              "      <td>34</td>\n",
              "      <td>109500</td>\n",
              "      <td>-1</td>\n",
              "    </tr>\n",
              "    <tr>\n",
              "      <th>2</th>\n",
              "      <td>-1</td>\n",
              "      <td>-1</td>\n",
              "      <td>-1</td>\n",
              "      <td>5</td>\n",
              "      <td>-1</td>\n",
              "      <td>-1</td>\n",
              "      <td>-1</td>\n",
              "      <td>4</td>\n",
              "      <td>1</td>\n",
              "      <td>28</td>\n",
              "      <td>44299</td>\n",
              "      <td>-1</td>\n",
              "    </tr>\n",
              "    <tr>\n",
              "      <th>3</th>\n",
              "      <td>-1</td>\n",
              "      <td>-1</td>\n",
              "      <td>-1</td>\n",
              "      <td>1</td>\n",
              "      <td>-1</td>\n",
              "      <td>-1</td>\n",
              "      <td>-1</td>\n",
              "      <td>6</td>\n",
              "      <td>1</td>\n",
              "      <td>50</td>\n",
              "      <td>200000</td>\n",
              "      <td>-1</td>\n",
              "    </tr>\n",
              "    <tr>\n",
              "      <th>4</th>\n",
              "      <td>-1</td>\n",
              "      <td>-1</td>\n",
              "      <td>-1</td>\n",
              "      <td>5</td>\n",
              "      <td>-1</td>\n",
              "      <td>-1</td>\n",
              "      <td>-1</td>\n",
              "      <td>6</td>\n",
              "      <td>1</td>\n",
              "      <td>53</td>\n",
              "      <td>74999</td>\n",
              "      <td>-1</td>\n",
              "    </tr>\n",
              "  </tbody>\n",
              "</table>\n",
              "</div>"
            ],
            "text/plain": [
              "   V05874  V05875  V05876  V07876  ...  V08992  V07306  V08683  V05899\n",
              "0      -1      -1      -1       5  ...       1      36  105000      -1\n",
              "1      -1      -1      -1       5  ...       1      34  109500      -1\n",
              "2      -1      -1      -1       5  ...       1      28   44299      -1\n",
              "3      -1      -1      -1       1  ...       1      50  200000      -1\n",
              "4      -1      -1      -1       5  ...       1      53   74999      -1\n",
              "\n",
              "[5 rows x 12 columns]"
            ]
          },
          "metadata": {
            "tags": []
          },
          "execution_count": 17
        }
      ]
    },
    {
      "cell_type": "code",
      "metadata": {
        "id": "YRSxmQYtLCpS",
        "colab": {
          "base_uri": "https://localhost:8080/",
          "height": 217
        },
        "outputId": "4db34d23-99b2-4583-a36f-9eaed1c86a12"
      },
      "source": [
        "third_df = third_df.rename(columns = {'V07876': 'Major_Depressive_Disorder', 'V05874': 'How_Emotionally_Close_With_Father', \n",
        "                          'V05875': 'How_Much_Love_Man_Gave', 'V05876': 'How_Much_Effort_In_Upbringing',\n",
        "                          'V05795': 'Parent_Divorce_Status', 'V05879': 'FatherMan_+2Weeks_Sadness', \n",
        "                          'V06929': 'Num_Close_Relatives_With_Depression', 'V08992': 'Region', \n",
        "                           'V07306': 'Age', 'V08683': 'Income', 'RANCEST': 'Race/Ancestry', \n",
        "                                      'V05899': 'Father_Sub_Interfere_Growing_Up'})\n",
        "third_df.head()"
      ],
      "execution_count": 18,
      "outputs": [
        {
          "output_type": "execute_result",
          "data": {
            "text/html": [
              "<div>\n",
              "<style scoped>\n",
              "    .dataframe tbody tr th:only-of-type {\n",
              "        vertical-align: middle;\n",
              "    }\n",
              "\n",
              "    .dataframe tbody tr th {\n",
              "        vertical-align: top;\n",
              "    }\n",
              "\n",
              "    .dataframe thead th {\n",
              "        text-align: right;\n",
              "    }\n",
              "</style>\n",
              "<table border=\"1\" class=\"dataframe\">\n",
              "  <thead>\n",
              "    <tr style=\"text-align: right;\">\n",
              "      <th></th>\n",
              "      <th>How_Emotionally_Close_With_Father</th>\n",
              "      <th>How_Much_Love_Man_Gave</th>\n",
              "      <th>How_Much_Effort_In_Upbringing</th>\n",
              "      <th>Major_Depressive_Disorder</th>\n",
              "      <th>Parent_Divorce_Status</th>\n",
              "      <th>FatherMan_+2Weeks_Sadness</th>\n",
              "      <th>Num_Close_Relatives_With_Depression</th>\n",
              "      <th>Race/Ancestry</th>\n",
              "      <th>Region</th>\n",
              "      <th>Age</th>\n",
              "      <th>Income</th>\n",
              "      <th>Father_Sub_Interfere_Growing_Up</th>\n",
              "    </tr>\n",
              "  </thead>\n",
              "  <tbody>\n",
              "    <tr>\n",
              "      <th>0</th>\n",
              "      <td>-1</td>\n",
              "      <td>-1</td>\n",
              "      <td>-1</td>\n",
              "      <td>5</td>\n",
              "      <td>-1</td>\n",
              "      <td>-1</td>\n",
              "      <td>-1</td>\n",
              "      <td>4</td>\n",
              "      <td>1</td>\n",
              "      <td>36</td>\n",
              "      <td>105000</td>\n",
              "      <td>-1</td>\n",
              "    </tr>\n",
              "    <tr>\n",
              "      <th>1</th>\n",
              "      <td>-1</td>\n",
              "      <td>-1</td>\n",
              "      <td>-1</td>\n",
              "      <td>5</td>\n",
              "      <td>-1</td>\n",
              "      <td>-1</td>\n",
              "      <td>-1</td>\n",
              "      <td>4</td>\n",
              "      <td>1</td>\n",
              "      <td>34</td>\n",
              "      <td>109500</td>\n",
              "      <td>-1</td>\n",
              "    </tr>\n",
              "    <tr>\n",
              "      <th>2</th>\n",
              "      <td>-1</td>\n",
              "      <td>-1</td>\n",
              "      <td>-1</td>\n",
              "      <td>5</td>\n",
              "      <td>-1</td>\n",
              "      <td>-1</td>\n",
              "      <td>-1</td>\n",
              "      <td>4</td>\n",
              "      <td>1</td>\n",
              "      <td>28</td>\n",
              "      <td>44299</td>\n",
              "      <td>-1</td>\n",
              "    </tr>\n",
              "    <tr>\n",
              "      <th>3</th>\n",
              "      <td>-1</td>\n",
              "      <td>-1</td>\n",
              "      <td>-1</td>\n",
              "      <td>1</td>\n",
              "      <td>-1</td>\n",
              "      <td>-1</td>\n",
              "      <td>-1</td>\n",
              "      <td>6</td>\n",
              "      <td>1</td>\n",
              "      <td>50</td>\n",
              "      <td>200000</td>\n",
              "      <td>-1</td>\n",
              "    </tr>\n",
              "    <tr>\n",
              "      <th>4</th>\n",
              "      <td>-1</td>\n",
              "      <td>-1</td>\n",
              "      <td>-1</td>\n",
              "      <td>5</td>\n",
              "      <td>-1</td>\n",
              "      <td>-1</td>\n",
              "      <td>-1</td>\n",
              "      <td>6</td>\n",
              "      <td>1</td>\n",
              "      <td>53</td>\n",
              "      <td>74999</td>\n",
              "      <td>-1</td>\n",
              "    </tr>\n",
              "  </tbody>\n",
              "</table>\n",
              "</div>"
            ],
            "text/plain": [
              "   How_Emotionally_Close_With_Father  ...  Father_Sub_Interfere_Growing_Up\n",
              "0                                 -1  ...                               -1\n",
              "1                                 -1  ...                               -1\n",
              "2                                 -1  ...                               -1\n",
              "3                                 -1  ...                               -1\n",
              "4                                 -1  ...                               -1\n",
              "\n",
              "[5 rows x 12 columns]"
            ]
          },
          "metadata": {
            "tags": []
          },
          "execution_count": 18
        }
      ]
    },
    {
      "cell_type": "markdown",
      "metadata": {
        "id": "kNPuLoy7etEN"
      },
      "source": [
        "## ⚙️ Feature Engineering"
      ]
    },
    {
      "cell_type": "code",
      "metadata": {
        "id": "l_PG4opMLCpS"
      },
      "source": [
        "#Making parent divorce status binary\n",
        "\n",
        "def func(x):\n",
        "    b = x ==(-8)\n",
        "    c = x ==(-9)\n",
        "    if b or c:\n",
        "        return 0\n",
        "    elif x != -1:\n",
        "        return 1\n",
        "third_df['Parent_Divorce_status'] = third_df[['Parent_Divorce_Status']].applymap(func)"
      ],
      "execution_count": 19,
      "outputs": []
    },
    {
      "cell_type": "code",
      "metadata": {
        "id": "eAFY5_QlLCpT",
        "colab": {
          "base_uri": "https://localhost:8080/",
          "height": 353
        },
        "outputId": "a496e974-038a-4791-f42b-cb91c672cb19"
      },
      "source": [
        "sns.distplot(third_df['Parent_Divorce_status'])"
      ],
      "execution_count": 20,
      "outputs": [
        {
          "output_type": "stream",
          "text": [
            "/usr/local/lib/python3.7/dist-packages/seaborn/distributions.py:2557: FutureWarning: `distplot` is a deprecated function and will be removed in a future version. Please adapt your code to use either `displot` (a figure-level function with similar flexibility) or `histplot` (an axes-level function for histograms).\n",
            "  warnings.warn(msg, FutureWarning)\n"
          ],
          "name": "stderr"
        },
        {
          "output_type": "execute_result",
          "data": {
            "text/plain": [
              "<matplotlib.axes._subplots.AxesSubplot at 0x7fab61ce1e10>"
            ]
          },
          "metadata": {
            "tags": []
          },
          "execution_count": 20
        },
        {
          "output_type": "display_data",
          "data": {
            "image/png": "[encoded data removed]",
            "text/plain": [
              "<Figure size 432x288 with 1 Axes>"
            ]
          },
          "metadata": {
            "tags": [],
            "needs_background": "light"
          }
        }
      ]
    },
    {
      "cell_type": "code",
      "metadata": {
        "id": "YYuLuKJbLCpT"
      },
      "source": [
        "third_df['Major_Depressive_Disorder'] = third_df[['Major_Depressive_Disorder']].replace(5, 0)"
      ],
      "execution_count": 21,
      "outputs": []
    },
    {
      "cell_type": "code",
      "metadata": {
        "id": "zrkiqJtjLCpU"
      },
      "source": [
        "third_df['How_Emotionally_Close_With_Father'] = third_df[['How_Emotionally_Close_With_Father']].replace([-8,-9], -1)"
      ],
      "execution_count": 22,
      "outputs": []
    },
    {
      "cell_type": "code",
      "metadata": {
        "id": "BfwQjVAuLCpU",
        "colab": {
          "base_uri": "https://localhost:8080/",
          "height": 297
        },
        "outputId": "3b452e1b-7dd1-43d2-8e1f-6b53f0dc869c"
      },
      "source": [
        "#note: how close with father -and other treatment vars -(1 = very close, 4 = not close)\n",
        "\n",
        "sns.lineplot(x = 'How_Emotionally_Close_With_Father', y = 'Major_Depressive_Disorder', data = third_df)"
      ],
      "execution_count": 23,
      "outputs": [
        {
          "output_type": "execute_result",
          "data": {
            "text/plain": [
              "<matplotlib.axes._subplots.AxesSubplot at 0x7fab61afebd0>"
            ]
          },
          "metadata": {
            "tags": []
          },
          "execution_count": 23
        },
        {
          "output_type": "display_data",
          "data": {
            "image/png": "[encoded data removed]",
            "text/plain": [
              "<Figure size 432x288 with 1 Axes>"
            ]
          },
          "metadata": {
            "tags": [],
            "needs_background": "light"
          }
        }
      ]
    },
    {
      "cell_type": "code",
      "metadata": {
        "id": "MDcPJDDuLCpU"
      },
      "source": [
        "third_df['How_Much_Love_Man_Gave'] = third_df[['How_Much_Love_Man_Gave']].replace([-8,-9], -1)"
      ],
      "execution_count": 24,
      "outputs": []
    },
    {
      "cell_type": "code",
      "metadata": {
        "id": "dXo88wdoLCpU",
        "colab": {
          "base_uri": "https://localhost:8080/",
          "height": 297
        },
        "outputId": "b9afb6c2-fb70-4ff7-8bd5-97d081531905"
      },
      "source": [
        "sns.lineplot(x = 'How_Much_Love_Man_Gave', y = 'Major_Depressive_Disorder', data = third_df)"
      ],
      "execution_count": 25,
      "outputs": [
        {
          "output_type": "execute_result",
          "data": {
            "text/plain": [
              "<matplotlib.axes._subplots.AxesSubplot at 0x7fab5a44ab50>"
            ]
          },
          "metadata": {
            "tags": []
          },
          "execution_count": 25
        },
        {
          "output_type": "display_data",
          "data": {
            "image/png": "[encoded data removed]",
            "text/plain": [
              "<Figure size 432x288 with 1 Axes>"
            ]
          },
          "metadata": {
            "tags": [],
            "needs_background": "light"
          }
        }
      ]
    },
    {
      "cell_type": "code",
      "metadata": {
        "id": "vBMDW6FnLCpV"
      },
      "source": [
        "third_df['How_Much_Effort_In_Upbringing'] = third_df[['How_Much_Effort_In_Upbringing']].replace([-8,-9], -1)"
      ],
      "execution_count": 26,
      "outputs": []
    },
    {
      "cell_type": "code",
      "metadata": {
        "id": "C9MwlHefLCpV",
        "colab": {
          "base_uri": "https://localhost:8080/",
          "height": 297
        },
        "outputId": "60dafb9f-56ac-4b45-f8a0-5b889e7bb906"
      },
      "source": [
        "sns.lineplot(x = 'How_Much_Effort_In_Upbringing', y = 'Major_Depressive_Disorder', data = third_df)"
      ],
      "execution_count": 27,
      "outputs": [
        {
          "output_type": "execute_result",
          "data": {
            "text/plain": [
              "<matplotlib.axes._subplots.AxesSubplot at 0x7fab57fd8a90>"
            ]
          },
          "metadata": {
            "tags": []
          },
          "execution_count": 27
        },
        {
          "output_type": "display_data",
          "data": {
            "image/png": "[encoded data removed]",
            "text/plain": [
              "<Figure size 432x288 with 1 Axes>"
            ]
          },
          "metadata": {
            "tags": [],
            "needs_background": "light"
          }
        }
      ]
    },
    {
      "cell_type": "code",
      "metadata": {
        "id": "t1UZb16oLCpW",
        "colab": {
          "base_uri": "https://localhost:8080/",
          "height": 351
        },
        "outputId": "b070cea2-fb66-450c-e8ab-f9a5512040bc"
      },
      "source": [
        "#stacked histograms for first treatment var \n",
        "dep_0 = third_df['How_Emotionally_Close_With_Father'][(third_df['Major_Depressive_Disorder'] == 0) & (third_df['How_Emotionally_Close_With_Father']>0)]\n",
        "dep_1 = third_df['How_Emotionally_Close_With_Father'][(third_df['Major_Depressive_Disorder'] == 1) & (third_df['How_Emotionally_Close_With_Father']>0)]\n",
        "\n",
        "plt.hist([dep_0, dep_1], stacked = True, align='left');\n",
        "plt.legend(['MDD = 0', 'MDD = 1']);\n",
        "plt.xlabel('How_Emotionally_Close_With_Father');\n",
        "plt.title('Stacked Distribution of Potential Treatment Variable')\n",
        "plt.rcParams[\"figure.figsize\"] = (10,8)\n"
      ],
      "execution_count": 28,
      "outputs": [
        {
          "output_type": "stream",
          "text": [
            "/usr/local/lib/python3.7/dist-packages/numpy/core/_asarray.py:83: VisibleDeprecationWarning: Creating an ndarray from ragged nested sequences (which is a list-or-tuple of lists-or-tuples-or ndarrays with different lengths or shapes) is deprecated. If you meant to do this, you must specify 'dtype=object' when creating the ndarray\n",
            "  return array(a, dtype, copy=False, order=order)\n"
          ],
          "name": "stderr"
        },
        {
          "output_type": "display_data",
          "data": {
            "image/png": "[encoded data removed]",
            "text/plain": [
              "<Figure size 432x288 with 1 Axes>"
            ]
          },
          "metadata": {
            "tags": [],
            "needs_background": "light"
          }
        }
      ]
    },
    {
      "cell_type": "code",
      "metadata": {
        "id": "ihFTIklALCpW",
        "colab": {
          "base_uri": "https://localhost:8080/",
          "height": 553
        },
        "outputId": "05edafe5-b177-42fe-f0ba-ea84b1318ad5"
      },
      "source": [
        "\n",
        "dep_00 = third_df['How_Much_Love_Man_Gave'][third_df['Major_Depressive_Disorder'] == 0]\n",
        "dep_11 = third_df['How_Much_Love_Man_Gave'][third_df['Major_Depressive_Disorder'] == 1]\n",
        "\n",
        "plt.hist([dep_00, dep_11], stacked = True, align='left');\n",
        "plt.legend(['Depression = 0', 'Depression = 1']);\n",
        "plt.xlabel('How_Much_Love_Man_Gave');"
      ],
      "execution_count": 29,
      "outputs": [
        {
          "output_type": "stream",
          "text": [
            "/usr/local/lib/python3.7/dist-packages/numpy/core/_asarray.py:83: VisibleDeprecationWarning: Creating an ndarray from ragged nested sequences (which is a list-or-tuple of lists-or-tuples-or ndarrays with different lengths or shapes) is deprecated. If you meant to do this, you must specify 'dtype=object' when creating the ndarray\n",
            "  return array(a, dtype, copy=False, order=order)\n"
          ],
          "name": "stderr"
        },
        {
          "output_type": "display_data",
          "data": {
            "image/png": "[encoded data removed]",
            "text/plain": [
              "<Figure size 720x576 with 1 Axes>"
            ]
          },
          "metadata": {
            "tags": [],
            "needs_background": "light"
          }
        }
      ]
    },
    {
      "cell_type": "code",
      "metadata": {
        "id": "CMJV8LN4LCpX",
        "colab": {
          "base_uri": "https://localhost:8080/",
          "height": 553
        },
        "outputId": "f9fcdee7-e61e-41df-d66f-d82956d28e1d"
      },
      "source": [
        "\n",
        "dep_000 = third_df['How_Much_Effort_In_Upbringing'][third_df['Major_Depressive_Disorder'] == 0]\n",
        "dep_111 = third_df['How_Much_Effort_In_Upbringing'][third_df['Major_Depressive_Disorder'] == 1]\n",
        "\n",
        "plt.hist([dep_000, dep_111], stacked = True, align='left');\n",
        "plt.legend(['Depression = 0', 'Depression = 1']);\n",
        "plt.xlabel('How_Much_Effort_In_Upbringing');"
      ],
      "execution_count": 30,
      "outputs": [
        {
          "output_type": "stream",
          "text": [
            "/usr/local/lib/python3.7/dist-packages/numpy/core/_asarray.py:83: VisibleDeprecationWarning: Creating an ndarray from ragged nested sequences (which is a list-or-tuple of lists-or-tuples-or ndarrays with different lengths or shapes) is deprecated. If you meant to do this, you must specify 'dtype=object' when creating the ndarray\n",
            "  return array(a, dtype, copy=False, order=order)\n"
          ],
          "name": "stderr"
        },
        {
          "output_type": "display_data",
          "data": {
            "image/png": "[encoded data removed]",
            "text/plain": [
              "<Figure size 720x576 with 1 Axes>"
            ]
          },
          "metadata": {
            "tags": [],
            "needs_background": "light"
          }
        }
      ]
    },
    {
      "cell_type": "markdown",
      "metadata": {
        "id": "NVitmOH5fCo9"
      },
      "source": [
        "## Research Question 1"
      ]
    },
    {
      "cell_type": "code",
      "metadata": {
        "id": "HfT8LQC9fB8r"
      },
      "source": [
        ""
      ],
      "execution_count": 30,
      "outputs": []
    },
    {
      "cell_type": "code",
      "metadata": {
        "id": "lzQdrrGNfCG_"
      },
      "source": [
        ""
      ],
      "execution_count": 30,
      "outputs": []
    },
    {
      "cell_type": "code",
      "metadata": {
        "id": "t54HEmEbfCJz"
      },
      "source": [
        ""
      ],
      "execution_count": 30,
      "outputs": []
    },
    {
      "cell_type": "markdown",
      "metadata": {
        "id": "Nv-tXuu222zs"
      },
      "source": [
        "## Research Question 2\n",
        "Does a poor relationship with a father figure cause a depression diagnosis in adults in the contiguous US?\n",
        "\n",
        "# [Option D] Casual Inference Analysis\n",
        "\n"
      ]
    },
    {
      "cell_type": "markdown",
      "metadata": {
        "id": "3zMj569_fyrY"
      },
      "source": [
        "Missing values: getting rid of all rows without valid responses for each variable."
      ]
    },
    {
      "cell_type": "code",
      "metadata": {
        "id": "hFy8msQPLCpY",
        "colab": {
          "base_uri": "https://localhost:8080/"
        },
        "outputId": "5602012d-515f-40e0-d091-c640023df564"
      },
      "source": [
        "unconf_df = third_df[third_df['Major_Depressive_Disorder'] >-1]\n",
        "unconf_df = unconf_df[unconf_df['How_Emotionally_Close_With_Father'] >-1]\n",
        "unconf_df = unconf_df[unconf_df['How_Much_Love_Man_Gave'] >-1]\n",
        "unconf_df = unconf_df[unconf_df['How_Much_Effort_In_Upbringing'] >-1]\n",
        "unconf_df = unconf_df[unconf_df['Income'] >-1]\n",
        "\n",
        "unconf_df.shape"
      ],
      "execution_count": 31,
      "outputs": [
        {
          "output_type": "execute_result",
          "data": {
            "text/plain": [
              "(5284, 13)"
            ]
          },
          "metadata": {
            "tags": []
          },
          "execution_count": 31
        }
      ]
    },
    {
      "cell_type": "markdown",
      "metadata": {
        "id": "XTdfzMBff5v5"
      },
      "source": [
        "Turning main categorical treatment variables into binary variables: values of 1 and 2 are translated into a value of 0 (not a poor relationship with father) and 1 (poor relationship with father). "
      ]
    },
    {
      "cell_type": "code",
      "metadata": {
        "id": "uKyzcYPyLCpY",
        "colab": {
          "base_uri": "https://localhost:8080/",
          "height": 217
        },
        "outputId": "31b6b581-6058-4ee1-f97f-5149808f89bd"
      },
      "source": [
        "def bin_func(x):\n",
        "    b = x == 1\n",
        "    c = x == 2\n",
        "    if b or c:\n",
        "        return 0\n",
        "    else:\n",
        "        return 1\n",
        "\n",
        "unconf_df['How_Emotionally_Close_With_Father'] = unconf_df[['How_Emotionally_Close_With_Father']].applymap(bin_func)\n",
        "unconf_df['How_Much_Love_Man_Gave'] = unconf_df[['How_Much_Love_Man_Gave']].applymap(bin_func)\n",
        "unconf_df['How_Much_Effort_In_Upbringing'] = unconf_df[['How_Much_Effort_In_Upbringing']].applymap(bin_func)\n",
        "unconf_df.head()"
      ],
      "execution_count": 32,
      "outputs": [
        {
          "output_type": "execute_result",
          "data": {
            "text/html": [
              "<div>\n",
              "<style scoped>\n",
              "    .dataframe tbody tr th:only-of-type {\n",
              "        vertical-align: middle;\n",
              "    }\n",
              "\n",
              "    .dataframe tbody tr th {\n",
              "        vertical-align: top;\n",
              "    }\n",
              "\n",
              "    .dataframe thead th {\n",
              "        text-align: right;\n",
              "    }\n",
              "</style>\n",
              "<table border=\"1\" class=\"dataframe\">\n",
              "  <thead>\n",
              "    <tr style=\"text-align: right;\">\n",
              "      <th></th>\n",
              "      <th>How_Emotionally_Close_With_Father</th>\n",
              "      <th>How_Much_Love_Man_Gave</th>\n",
              "      <th>How_Much_Effort_In_Upbringing</th>\n",
              "      <th>Major_Depressive_Disorder</th>\n",
              "      <th>Parent_Divorce_Status</th>\n",
              "      <th>FatherMan_+2Weeks_Sadness</th>\n",
              "      <th>Num_Close_Relatives_With_Depression</th>\n",
              "      <th>Race/Ancestry</th>\n",
              "      <th>Region</th>\n",
              "      <th>Age</th>\n",
              "      <th>Income</th>\n",
              "      <th>Father_Sub_Interfere_Growing_Up</th>\n",
              "      <th>Parent_Divorce_status</th>\n",
              "    </tr>\n",
              "  </thead>\n",
              "  <tbody>\n",
              "    <tr>\n",
              "      <th>4649</th>\n",
              "      <td>0</td>\n",
              "      <td>0</td>\n",
              "      <td>0</td>\n",
              "      <td>1</td>\n",
              "      <td>-1</td>\n",
              "      <td>5</td>\n",
              "      <td>-1</td>\n",
              "      <td>8</td>\n",
              "      <td>1</td>\n",
              "      <td>41</td>\n",
              "      <td>125500</td>\n",
              "      <td>-1</td>\n",
              "      <td>NaN</td>\n",
              "    </tr>\n",
              "    <tr>\n",
              "      <th>4651</th>\n",
              "      <td>0</td>\n",
              "      <td>1</td>\n",
              "      <td>0</td>\n",
              "      <td>0</td>\n",
              "      <td>-1</td>\n",
              "      <td>5</td>\n",
              "      <td>-1</td>\n",
              "      <td>11</td>\n",
              "      <td>1</td>\n",
              "      <td>79</td>\n",
              "      <td>15500</td>\n",
              "      <td>-1</td>\n",
              "      <td>NaN</td>\n",
              "    </tr>\n",
              "    <tr>\n",
              "      <th>4655</th>\n",
              "      <td>0</td>\n",
              "      <td>0</td>\n",
              "      <td>0</td>\n",
              "      <td>0</td>\n",
              "      <td>-1</td>\n",
              "      <td>5</td>\n",
              "      <td>-1</td>\n",
              "      <td>11</td>\n",
              "      <td>1</td>\n",
              "      <td>30</td>\n",
              "      <td>150000</td>\n",
              "      <td>-1</td>\n",
              "      <td>NaN</td>\n",
              "    </tr>\n",
              "    <tr>\n",
              "      <th>4656</th>\n",
              "      <td>0</td>\n",
              "      <td>0</td>\n",
              "      <td>0</td>\n",
              "      <td>0</td>\n",
              "      <td>-1</td>\n",
              "      <td>5</td>\n",
              "      <td>-1</td>\n",
              "      <td>11</td>\n",
              "      <td>1</td>\n",
              "      <td>65</td>\n",
              "      <td>40500</td>\n",
              "      <td>-1</td>\n",
              "      <td>NaN</td>\n",
              "    </tr>\n",
              "    <tr>\n",
              "      <th>4661</th>\n",
              "      <td>0</td>\n",
              "      <td>0</td>\n",
              "      <td>0</td>\n",
              "      <td>0</td>\n",
              "      <td>-1</td>\n",
              "      <td>5</td>\n",
              "      <td>-1</td>\n",
              "      <td>10</td>\n",
              "      <td>1</td>\n",
              "      <td>47</td>\n",
              "      <td>9000</td>\n",
              "      <td>-1</td>\n",
              "      <td>NaN</td>\n",
              "    </tr>\n",
              "  </tbody>\n",
              "</table>\n",
              "</div>"
            ],
            "text/plain": [
              "      How_Emotionally_Close_With_Father  ...  Parent_Divorce_status\n",
              "4649                                  0  ...                    NaN\n",
              "4651                                  0  ...                    NaN\n",
              "4655                                  0  ...                    NaN\n",
              "4656                                  0  ...                    NaN\n",
              "4661                                  0  ...                    NaN\n",
              "\n",
              "[5 rows x 13 columns]"
            ]
          },
          "metadata": {
            "tags": []
          },
          "execution_count": 32
        }
      ]
    },
    {
      "cell_type": "markdown",
      "metadata": {
        "id": "to3sK7Yq7TAP"
      },
      "source": [
        "Annual poverty line in the US in 2002 for a household of 4 individuals was 18,100 and 8,860 for a household of 1 individual, so engineered relevent features based on income data:\n",
        "\n",
        "  1) binary variable 'In_Poverty_1' where reporting an income below the poverty line for a household of four, results in a value of 1, indicating that one is living in poverty.\n",
        "  \n",
        "  2) variable 'In_Poverty_2' where reporting an income below the poverty line for a household of one, results in a value of 1, indicating that one is living in poverty.   \n",
        "\n",
        "Poverty lines from source: https://aspe.hhs.gov/prior-hhs-poverty-guidelines-and-federal-register-references"
      ]
    },
    {
      "cell_type": "code",
      "metadata": {
        "colab": {
          "base_uri": "https://localhost:8080/",
          "height": 217
        },
        "id": "lZBnP51H5ufb",
        "outputId": "80692cdd-c08d-4ebc-ca11-d79e06410c19"
      },
      "source": [
        "def in_pov1(x):\n",
        "  if x > 18100:\n",
        "    return 0\n",
        "  elif x > -1:\n",
        "    return 1\n",
        "\n",
        "def in_pov2(x):\n",
        "  if x > 8860:\n",
        "    return 0\n",
        "  elif x >= 0:\n",
        "    return 1\n",
        "\n",
        "unconf_df['In_Poverty1'] = unconf_df[['Income']].astype(int).applymap(in_pov1)\n",
        "unconf_df['In_Poverty2'] = unconf_df[['Income']].astype(int).applymap(in_pov2)\n",
        "unconf_df.head()"
      ],
      "execution_count": 33,
      "outputs": [
        {
          "output_type": "execute_result",
          "data": {
            "text/html": [
              "<div>\n",
              "<style scoped>\n",
              "    .dataframe tbody tr th:only-of-type {\n",
              "        vertical-align: middle;\n",
              "    }\n",
              "\n",
              "    .dataframe tbody tr th {\n",
              "        vertical-align: top;\n",
              "    }\n",
              "\n",
              "    .dataframe thead th {\n",
              "        text-align: right;\n",
              "    }\n",
              "</style>\n",
              "<table border=\"1\" class=\"dataframe\">\n",
              "  <thead>\n",
              "    <tr style=\"text-align: right;\">\n",
              "      <th></th>\n",
              "      <th>How_Emotionally_Close_With_Father</th>\n",
              "      <th>How_Much_Love_Man_Gave</th>\n",
              "      <th>How_Much_Effort_In_Upbringing</th>\n",
              "      <th>Major_Depressive_Disorder</th>\n",
              "      <th>Parent_Divorce_Status</th>\n",
              "      <th>FatherMan_+2Weeks_Sadness</th>\n",
              "      <th>Num_Close_Relatives_With_Depression</th>\n",
              "      <th>Race/Ancestry</th>\n",
              "      <th>Region</th>\n",
              "      <th>Age</th>\n",
              "      <th>Income</th>\n",
              "      <th>Father_Sub_Interfere_Growing_Up</th>\n",
              "      <th>Parent_Divorce_status</th>\n",
              "      <th>In_Poverty1</th>\n",
              "      <th>In_Poverty2</th>\n",
              "    </tr>\n",
              "  </thead>\n",
              "  <tbody>\n",
              "    <tr>\n",
              "      <th>4649</th>\n",
              "      <td>0</td>\n",
              "      <td>0</td>\n",
              "      <td>0</td>\n",
              "      <td>1</td>\n",
              "      <td>-1</td>\n",
              "      <td>5</td>\n",
              "      <td>-1</td>\n",
              "      <td>8</td>\n",
              "      <td>1</td>\n",
              "      <td>41</td>\n",
              "      <td>125500</td>\n",
              "      <td>-1</td>\n",
              "      <td>NaN</td>\n",
              "      <td>0</td>\n",
              "      <td>0</td>\n",
              "    </tr>\n",
              "    <tr>\n",
              "      <th>4651</th>\n",
              "      <td>0</td>\n",
              "      <td>1</td>\n",
              "      <td>0</td>\n",
              "      <td>0</td>\n",
              "      <td>-1</td>\n",
              "      <td>5</td>\n",
              "      <td>-1</td>\n",
              "      <td>11</td>\n",
              "      <td>1</td>\n",
              "      <td>79</td>\n",
              "      <td>15500</td>\n",
              "      <td>-1</td>\n",
              "      <td>NaN</td>\n",
              "      <td>1</td>\n",
              "      <td>0</td>\n",
              "    </tr>\n",
              "    <tr>\n",
              "      <th>4655</th>\n",
              "      <td>0</td>\n",
              "      <td>0</td>\n",
              "      <td>0</td>\n",
              "      <td>0</td>\n",
              "      <td>-1</td>\n",
              "      <td>5</td>\n",
              "      <td>-1</td>\n",
              "      <td>11</td>\n",
              "      <td>1</td>\n",
              "      <td>30</td>\n",
              "      <td>150000</td>\n",
              "      <td>-1</td>\n",
              "      <td>NaN</td>\n",
              "      <td>0</td>\n",
              "      <td>0</td>\n",
              "    </tr>\n",
              "    <tr>\n",
              "      <th>4656</th>\n",
              "      <td>0</td>\n",
              "      <td>0</td>\n",
              "      <td>0</td>\n",
              "      <td>0</td>\n",
              "      <td>-1</td>\n",
              "      <td>5</td>\n",
              "      <td>-1</td>\n",
              "      <td>11</td>\n",
              "      <td>1</td>\n",
              "      <td>65</td>\n",
              "      <td>40500</td>\n",
              "      <td>-1</td>\n",
              "      <td>NaN</td>\n",
              "      <td>0</td>\n",
              "      <td>0</td>\n",
              "    </tr>\n",
              "    <tr>\n",
              "      <th>4661</th>\n",
              "      <td>0</td>\n",
              "      <td>0</td>\n",
              "      <td>0</td>\n",
              "      <td>0</td>\n",
              "      <td>-1</td>\n",
              "      <td>5</td>\n",
              "      <td>-1</td>\n",
              "      <td>10</td>\n",
              "      <td>1</td>\n",
              "      <td>47</td>\n",
              "      <td>9000</td>\n",
              "      <td>-1</td>\n",
              "      <td>NaN</td>\n",
              "      <td>1</td>\n",
              "      <td>0</td>\n",
              "    </tr>\n",
              "  </tbody>\n",
              "</table>\n",
              "</div>"
            ],
            "text/plain": [
              "      How_Emotionally_Close_With_Father  ...  In_Poverty2\n",
              "4649                                  0  ...            0\n",
              "4651                                  0  ...            0\n",
              "4655                                  0  ...            0\n",
              "4656                                  0  ...            0\n",
              "4661                                  0  ...            0\n",
              "\n",
              "[5 rows x 15 columns]"
            ]
          },
          "metadata": {
            "tags": []
          },
          "execution_count": 33
        }
      ]
    },
    {
      "cell_type": "markdown",
      "metadata": {
        "id": "X8MVBH759lrj"
      },
      "source": [
        "### Proof of Unconfoundedness with Income/Poverty Status"
      ]
    },
    {
      "cell_type": "markdown",
      "metadata": {
        "id": "4b_XdcL19ckG"
      },
      "source": [
        "Z_i corresponds to whether the participant i had 0 or 1 relationship with fatherman.  <br>\n",
        "Y_i(0) and Y_i(1) represent what-ifs: if participant i had relationship 0 or 1 with fatherman, would they get depression?"
      ]
    },
    {
      "cell_type": "code",
      "metadata": {
        "id": "2hMPS8Ep5DZw"
      },
      "source": [
        "# Prove unconfoundness by showing:\n",
        "# E [Y(1) | Z=1, X=x] = E [Y(1) | X=x]\n",
        "# Reference: lecture 15 whiteboard notes \n",
        "\n",
        "\n",
        "def condfoundness(df, treat_ind, out_ind, conf_ind):\n",
        "  # 1 * (P(Y=1 | Z=1, X=1) + P(Y=1 | Z=1, X=0))\n",
        "  exp_1 =  1 * ((len(df[(df[out_ind] == 1) & (df[treat_ind] == 1) & (df[conf_ind] == 1)]) /\n",
        "                 len(df[(df[treat_ind] == 1) & (df[conf_ind] == 1)])) +\n",
        "                (len(df[(df[out_ind] == 1) & (df[treat_ind] == 1) & (df[conf_ind] == 0)]) /\n",
        "                 len(df[(df[treat_ind] == 1) & (df[conf_ind] == 0)])))\n",
        "  exp_2 = 1 * ((len(df[(df[out_ind] == 1) & (df[conf_ind] == 1)]) / \n",
        "                len(df[df[conf_ind] == 1])) + \n",
        "               (len(df[(df[out_ind] == 1) & (df[conf_ind] == 0)]) / \n",
        "                len(df[df[conf_ind] == 0])))\n",
        "  return np.abs(exp_1 - exp_2)"
      ],
      "execution_count": 34,
      "outputs": []
    },
    {
      "cell_type": "code",
      "metadata": {
        "colab": {
          "base_uri": "https://localhost:8080/"
        },
        "id": "h__M0MfT5KCz",
        "outputId": "d6318ead-0c89-4e21-b566-71f4baa29adf"
      },
      "source": [
        "# If unconfoundness assumption holds, result should be zero\n",
        "\n",
        "# 'In_Poverty1'\n",
        "diff = condfoundness(unconf_df, 'How_Emotionally_Close_With_Father', 'Major_Depressive_Disorder', 'In_Poverty1')\n",
        "diff1 = condfoundness(unconf_df, 'How_Much_Love_Man_Gave', 'Major_Depressive_Disorder', 'In_Poverty1')\n",
        "diff2 = condfoundness(unconf_df, 'How_Much_Effort_In_Upbringing', 'Major_Depressive_Disorder', 'In_Poverty1')\n",
        "# 'In_Poverty2'\n",
        "diff3 = condfoundness(unconf_df, 'How_Emotionally_Close_With_Father', 'Major_Depressive_Disorder', 'In_Poverty2')\n",
        "diff4 = condfoundness(unconf_df, 'How_Much_Love_Man_Gave', 'Major_Depressive_Disorder', 'In_Poverty2')\n",
        "diff5 = condfoundness(unconf_df, 'How_Much_Effort_In_Upbringing', 'Major_Depressive_Disorder', 'In_Poverty2')\n",
        "\n",
        "print('In_Poverty1 :', diff, diff1, diff2)\n",
        "print('In_Poverty2 :', diff3, diff4, diff5)"
      ],
      "execution_count": 35,
      "outputs": [
        {
          "output_type": "stream",
          "text": [
            "In_Poverty1 : 0.09986584912600693 0.08801669948238056 0.09347507645639175\n",
            "In_Poverty2 : 0.11007805624562794 0.11357832170861093 0.08572957360486766\n"
          ],
          "name": "stdout"
        }
      ]
    },
    {
      "cell_type": "markdown",
      "metadata": {
        "id": "oCy13-CDg7a3"
      },
      "source": [
        "### Simpson's Paradox"
      ]
    },
    {
      "cell_type": "code",
      "metadata": {
        "colab": {
          "base_uri": "https://localhost:8080/"
        },
        "id": "t-kXoJVaM-Ed",
        "outputId": "71aaec75-1b1b-4942-c8f9-285f410cd05b"
      },
      "source": [
        "#For Poverty1:\n",
        "y0_z0 = unconf_df[(unconf_df['How_Emotionally_Close_With_Father'] == 0) & (unconf_df['Major_Depressive_Disorder'] == 0)]\n",
        "y1_z1 = unconf_df[(unconf_df['How_Emotionally_Close_With_Father'] == 1) & (unconf_df['Major_Depressive_Disorder'] == 1)]\n",
        "y0_z0_x1 = y0_z0[y0_z0['In_Poverty1'] == 1]\n",
        "y0_z0_x0 = y0_z0[y0_z0['In_Poverty1'] == 0]\n",
        "y1_z1_x1 = y1_z1[y1_z1['In_Poverty1'] == 1]\n",
        "y1_z1_x0 = y1_z1[y1_z1['In_Poverty1'] == 0]\n",
        "\n",
        "#for denominators in following cells: (maybe not)\n",
        "z0_x1 = unconf_df[(unconf_df['How_Emotionally_Close_With_Father'] == 0) & (unconf_df['In_Poverty1'] == 1)]\n",
        "z0_x0 = unconf_df[(unconf_df['How_Emotionally_Close_With_Father'] == 0) & (unconf_df['In_Poverty1'] == 0)]\n",
        "z1_x1 = unconf_df[(unconf_df['How_Emotionally_Close_With_Father'] == 1) & (unconf_df['In_Poverty1'] == 1)]\n",
        "z1_x0 = unconf_df[(unconf_df['How_Emotionally_Close_With_Father'] == 1) & (unconf_df['In_Poverty1'] == 0)]\n",
        "z0 = unconf_df[(unconf_df['How_Emotionally_Close_With_Father'] ==0)]\n",
        "z1 = unconf_df[(unconf_df['How_Emotionally_Close_With_Father'] ==1)]\n",
        "\n",
        "\n",
        "#verify:\n",
        "len(z1_x0) + len(z1_x1) == len(z1)"
      ],
      "execution_count": 36,
      "outputs": [
        {
          "output_type": "execute_result",
          "data": {
            "text/plain": [
              "True"
            ]
          },
          "metadata": {
            "tags": []
          },
          "execution_count": 36
        }
      ]
    },
    {
      "cell_type": "code",
      "metadata": {
        "colab": {
          "base_uri": "https://localhost:8080/"
        },
        "id": "sWZor6PNM-Lo",
        "outputId": "e7bdf8d8-a901-468b-b2c6-dd4231993e98"
      },
      "source": [
        "#For Poverty1:\n",
        "print('E[y(0)|Z=0] = ' + str(len(y0_z0)/len(unconf_df)))\n",
        "print('E[y(1)|Z=1] = ' + str(len(y1_z1)/len(unconf_df)))\n",
        "print('The prima facie causal effect is E[y(1)|Z=1] - E[y(0)|Z=0] = ' + str(len(y1_z1)/len(unconf_df) - len(y0_z0)/len(unconf_df)))"
      ],
      "execution_count": 37,
      "outputs": [
        {
          "output_type": "stream",
          "text": [
            "E[y(0)|Z=0] = 0.5881907645722937\n",
            "E[y(1)|Z=1] = 0.0694549583648751\n",
            "The prima facie causal effect is E[y(1)|Z=1] - E[y(0)|Z=0] = -0.5187358062074185\n"
          ],
          "name": "stdout"
        }
      ]
    },
    {
      "cell_type": "code",
      "metadata": {
        "id": "6weBa4aYM-QD",
        "colab": {
          "base_uri": "https://localhost:8080/"
        },
        "outputId": "248c80e8-3b29-4837-8a08-3fb50667b9e6"
      },
      "source": [
        "#print table:\n",
        "print('        ' + 'Y = 0 | Z = 0 '+ '    Y = 1 | X = 1')\n",
        "print('X = 1      ' + str(round(len(y0_z0_x1)/len(z0_x1), 2)) + '              ' + str(round(len(y1_z1_x1)/len(z1_x1), 2)))\n",
        "print('X = 0      ' + str(round(len(y0_z0_x0)/len(z0_x0), 2)) + '              ' + str(round(len(y1_z1_x0)/len(z1_x0), 2)))\n",
        "print('Total      ' + str(round(len(y0_z0)/len(z0), 2)) + '              ' + str(round(len(y1_z1)/len(z1), 2)))"
      ],
      "execution_count": 38,
      "outputs": [
        {
          "output_type": "stream",
          "text": [
            "        Y = 0 | Z = 0     Y = 1 | X = 1\n",
            "X = 1      0.74              0.3\n",
            "X = 0      0.74              0.34\n",
            "Total      0.74              0.34\n"
          ],
          "name": "stdout"
        }
      ]
    },
    {
      "cell_type": "markdown",
      "metadata": {
        "id": "MGyqZmCJhPQ7"
      },
      "source": [
        "Simpson's Paradox is not present for Poverty1."
      ]
    },
    {
      "cell_type": "code",
      "metadata": {
        "id": "vlrGN0WUbAzU",
        "colab": {
          "base_uri": "https://localhost:8080/"
        },
        "outputId": "12ed232d-10a4-4a56-e576-3ef79f97b5a2"
      },
      "source": [
        "#For Poverty2:\n",
        "y0_z0 = unconf_df[(unconf_df['How_Emotionally_Close_With_Father'] == 0) & (unconf_df['Major_Depressive_Disorder'] == 0)]\n",
        "y1_z1 = unconf_df[(unconf_df['How_Emotionally_Close_With_Father'] == 1) & (unconf_df['Major_Depressive_Disorder'] == 1)]\n",
        "y0_z0_x1 = y0_z0[y0_z0['In_Poverty2'] == 1]\n",
        "y0_z0_x0 = y0_z0[y0_z0['In_Poverty2'] == 0]\n",
        "y1_z1_x1 = y1_z1[y1_z1['In_Poverty2'] == 1]\n",
        "y1_z1_x0 = y1_z1[y1_z1['In_Poverty2'] == 0]\n",
        "\n",
        "#for denominators in following cells: (maybe not)\n",
        "z0_x1 = unconf_df[(unconf_df['How_Emotionally_Close_With_Father'] == 0) & (unconf_df['In_Poverty2'] == 1)]\n",
        "z0_x0 = unconf_df[(unconf_df['How_Emotionally_Close_With_Father'] == 0) & (unconf_df['In_Poverty2'] == 0)]\n",
        "z1_x1 = unconf_df[(unconf_df['How_Emotionally_Close_With_Father'] == 1) & (unconf_df['In_Poverty2'] == 1)]\n",
        "z1_x0 = unconf_df[(unconf_df['How_Emotionally_Close_With_Father'] == 1) & (unconf_df['In_Poverty2'] == 0)]\n",
        "z0 = unconf_df[(unconf_df['How_Emotionally_Close_With_Father'] ==0)]\n",
        "z1 = unconf_df[(unconf_df['How_Emotionally_Close_With_Father'] ==1)]\n",
        "\n",
        "\n",
        "#verify:\n",
        "len(z1_x0) + len(z1_x1) == len(z1)"
      ],
      "execution_count": 39,
      "outputs": [
        {
          "output_type": "execute_result",
          "data": {
            "text/plain": [
              "True"
            ]
          },
          "metadata": {
            "tags": []
          },
          "execution_count": 39
        }
      ]
    },
    {
      "cell_type": "code",
      "metadata": {
        "id": "6I8FuWNNuAS_",
        "colab": {
          "base_uri": "https://localhost:8080/"
        },
        "outputId": "b9f60ee7-4a16-427b-9013-b3c9065b9308"
      },
      "source": [
        "#For Poverty2:\n",
        "print('E[y(0)|Z=0] = ' + str(len(y0_z0)/len(unconf_df)))\n",
        "print('E[y(1)|Z=1] = ' + str(len(y1_z1)/len(unconf_df)))\n",
        "print('The prima facie causal effect is E[y(1)|Z=1] - E[y(0)|Z=0] = ' + str(len(y1_z1)/len(unconf_df) - len(y0_z0)/len(unconf_df)))"
      ],
      "execution_count": 40,
      "outputs": [
        {
          "output_type": "stream",
          "text": [
            "E[y(0)|Z=0] = 0.5881907645722937\n",
            "E[y(1)|Z=1] = 0.0694549583648751\n",
            "The prima facie causal effect is E[y(1)|Z=1] - E[y(0)|Z=0] = -0.5187358062074185\n"
          ],
          "name": "stdout"
        }
      ]
    },
    {
      "cell_type": "code",
      "metadata": {
        "id": "fKBcyo8huAVh",
        "colab": {
          "base_uri": "https://localhost:8080/"
        },
        "outputId": "c0cebe6c-dfd1-4f20-a671-20a7fada05ad"
      },
      "source": [
        "#print table:\n",
        "print('        ' + 'Y = 0 | Z = 0 '+ '    Y = 1 | X = 1')\n",
        "print('X = 1      ' + str(round(len(y0_z0_x1)/len(z0_x1), 2)) + '              ' + str(round(len(y1_z1_x1)/len(z1_x1), 2)))\n",
        "print('X = 0      ' + str(round(len(y0_z0_x0)/len(z0_x0), 2)) + '              ' + str(round(len(y1_z1_x0)/len(z1_x0), 2)))\n",
        "print('Total      ' + str(round(len(y0_z0)/len(z0), 2)) + '              ' + str(round(len(y1_z1)/len(z1), 2)))"
      ],
      "execution_count": 41,
      "outputs": [
        {
          "output_type": "stream",
          "text": [
            "        Y = 0 | Z = 0     Y = 1 | X = 1\n",
            "X = 1      0.73              0.33\n",
            "X = 0      0.74              0.34\n",
            "Total      0.74              0.34\n"
          ],
          "name": "stdout"
        }
      ]
    },
    {
      "cell_type": "markdown",
      "metadata": {
        "id": "rm5lerlShU_b"
      },
      "source": [
        "Simpson's Paradox is still not present. Similar for other treatments because they have similar values."
      ]
    },
    {
      "cell_type": "markdown",
      "metadata": {
        "id": "d-5H_ka4wWN8"
      },
      "source": [
        "### CATE (Conditional Average Treament Effect) Calculations\n",
        "\n",
        "For 'In_Poverty1':"
      ]
    },
    {
      "cell_type": "code",
      "metadata": {
        "id": "UVFYvVfPYk6h",
        "colab": {
          "base_uri": "https://localhost:8080/"
        },
        "outputId": "402ab7a6-a67e-4973-c685-9fca306eedcd"
      },
      "source": [
        "in_poverty = unconf_df[unconf_df['In_Poverty1'] == 1]\n",
        "in_pov_and_poor_relat_father_fig = in_poverty[in_poverty['How_Emotionally_Close_With_Father'] == 1]\n",
        "in_pov_wo_poor_relat_father_fig = in_poverty[in_poverty['How_Emotionally_Close_With_Father'] == 0]\n",
        "not_in_poverty = unconf_df[unconf_df['In_Poverty1'] == 0]\n",
        "not_in_pov_and_poor_relat_father_fig = not_in_poverty[not_in_poverty['How_Emotionally_Close_With_Father'] == 1]\n",
        "not_in_pov_wo_poor_relat_father_fig = not_in_poverty[not_in_poverty['How_Emotionally_Close_With_Father'] == 0]\n",
        "MDD_0_SDO = len(not_in_pov_and_poor_relat_father_fig[not_in_pov_and_poor_relat_father_fig['Major_Depressive_Disorder'] == 1])/len(not_in_pov_and_poor_relat_father_fig) - len(not_in_pov_wo_poor_relat_father_fig[not_in_pov_wo_poor_relat_father_fig['Major_Depressive_Disorder'] == 1])/len(not_in_pov_wo_poor_relat_father_fig)\n",
        "MDD_1_SDO = len(in_pov_and_poor_relat_father_fig[in_pov_and_poor_relat_father_fig['Major_Depressive_Disorder'] == 1])/len(in_pov_and_poor_relat_father_fig) - len(in_pov_wo_poor_relat_father_fig[in_pov_wo_poor_relat_father_fig['Major_Depressive_Disorder'] == 1])/len(in_pov_wo_poor_relat_father_fig)\n",
        "\n",
        "CATE_MDD_income = (MDD_1_SDO - MDD_0_SDO)\n",
        "print(CATE_MDD_income)"
      ],
      "execution_count": 42,
      "outputs": [
        {
          "output_type": "stream",
          "text": [
            "-0.04614351693825558\n"
          ],
          "name": "stdout"
        }
      ]
    },
    {
      "cell_type": "code",
      "metadata": {
        "id": "BwasTuMRYlDN",
        "colab": {
          "base_uri": "https://localhost:8080/"
        },
        "outputId": "e61b8785-bd11-4f40-d1ac-b87e640c69b8"
      },
      "source": [
        "in_pov_and_poor_relat_father_fig1 = in_poverty[in_poverty['How_Much_Love_Man_Gave'] == 1]\n",
        "in_pov_wo_poor_relat_father_fig1 = in_poverty[in_poverty['How_Much_Love_Man_Gave'] == 0]\n",
        "not_in_pov_and_poor_relat_father_fig1 = not_in_poverty[not_in_poverty['How_Much_Love_Man_Gave'] == 1]\n",
        "not_in_pov_wo_poor_relat_father_fig1 = not_in_poverty[not_in_poverty['How_Much_Love_Man_Gave'] == 0]\n",
        "MDD_0_SDO1 = len(not_in_pov_and_poor_relat_father_fig1[not_in_pov_and_poor_relat_father_fig1['Major_Depressive_Disorder'] == 1])/len(not_in_pov_and_poor_relat_father_fig1) - len(not_in_pov_wo_poor_relat_father_fig1[not_in_pov_wo_poor_relat_father_fig1['Major_Depressive_Disorder'] == 1])/len(not_in_pov_wo_poor_relat_father_fig1)\n",
        "MDD_1_SDO1 = len(in_pov_and_poor_relat_father_fig1[in_pov_and_poor_relat_father_fig1['Major_Depressive_Disorder'] == 1])/len(in_pov_and_poor_relat_father_fig1) - len(in_pov_wo_poor_relat_father_fig1[in_pov_wo_poor_relat_father_fig1['Major_Depressive_Disorder'] == 1])/len(in_pov_wo_poor_relat_father_fig1)\n",
        "\n",
        "CATE_MDD_income1 = (MDD_1_SDO1 - MDD_0_SDO1)\n",
        "print(CATE_MDD_income1)"
      ],
      "execution_count": 43,
      "outputs": [
        {
          "output_type": "stream",
          "text": [
            "-0.05801379768729653\n"
          ],
          "name": "stdout"
        }
      ]
    },
    {
      "cell_type": "code",
      "metadata": {
        "id": "hPrFh_K3YlHS",
        "colab": {
          "base_uri": "https://localhost:8080/"
        },
        "outputId": "afb09a63-2eb6-472d-be80-2af30ba57a7f"
      },
      "source": [
        "in_pov_and_poor_relat_father_fig2 = in_poverty[in_poverty['How_Much_Effort_In_Upbringing'] == 1]\n",
        "in_pov_wo_poor_relat_father_fig2 = in_poverty[in_poverty['How_Much_Effort_In_Upbringing'] == 0]\n",
        "not_in_pov_and_poor_relat_father_fig2 = not_in_poverty[not_in_poverty['How_Much_Effort_In_Upbringing'] == 1]\n",
        "not_in_pov_wo_poor_relat_father_fig2 = not_in_poverty[not_in_poverty['How_Much_Effort_In_Upbringing'] == 0]\n",
        "MDD_0_SDO2 = len(not_in_pov_and_poor_relat_father_fig2[not_in_pov_and_poor_relat_father_fig2['Major_Depressive_Disorder'] == 1])/len(not_in_pov_and_poor_relat_father_fig2) - len(not_in_pov_wo_poor_relat_father_fig2[not_in_pov_wo_poor_relat_father_fig2['Major_Depressive_Disorder'] == 1])/len(not_in_pov_wo_poor_relat_father_fig2)\n",
        "MDD_1_SDO2 = len(in_pov_and_poor_relat_father_fig2[in_pov_and_poor_relat_father_fig2['Major_Depressive_Disorder'] == 1])/len(in_pov_and_poor_relat_father_fig2) - len(in_pov_wo_poor_relat_father_fig2[in_pov_wo_poor_relat_father_fig2['Major_Depressive_Disorder'] == 1])/len(in_pov_wo_poor_relat_father_fig2)\n",
        "\n",
        "CATE_MDD_income2 = (MDD_1_SDO2 - MDD_0_SDO2)\n",
        "print(CATE_MDD_income2)"
      ],
      "execution_count": 44,
      "outputs": [
        {
          "output_type": "stream",
          "text": [
            "-0.058556863383401325\n"
          ],
          "name": "stdout"
        }
      ]
    },
    {
      "cell_type": "markdown",
      "metadata": {
        "id": "pov1yzZRwtAn"
      },
      "source": [
        "For 'In_Poverty2' :"
      ]
    },
    {
      "cell_type": "code",
      "metadata": {
        "id": "7Ym1fMFaYlQr",
        "colab": {
          "base_uri": "https://localhost:8080/"
        },
        "outputId": "32876b72-8b90-4bcd-803f-9e5eac566b0b"
      },
      "source": [
        "in_poverty3 = unconf_df[unconf_df['In_Poverty2'] == 1]\n",
        "in_pov_and_poor_relat_father_fig3 = in_poverty3[in_poverty3['How_Emotionally_Close_With_Father'] == 1]\n",
        "in_pov_wo_poor_relat_father_fig3 = in_poverty3[in_poverty3['How_Emotionally_Close_With_Father'] == 0]\n",
        "not_in_poverty3 = unconf_df[unconf_df['In_Poverty2'] == 0]\n",
        "not_in_pov_and_poor_relat_father_fig3 = not_in_poverty3[not_in_poverty3['How_Emotionally_Close_With_Father'] == 1]\n",
        "not_in_pov_wo_poor_relat_father_fig3 = not_in_poverty3[not_in_poverty3['How_Emotionally_Close_With_Father'] == 0]\n",
        "MDD_0_SDO3 = len(not_in_pov_and_poor_relat_father_fig3[not_in_pov_and_poor_relat_father_fig3['Major_Depressive_Disorder'] == 1])/len(not_in_pov_and_poor_relat_father_fig3) - len(not_in_pov_wo_poor_relat_father_fig3[not_in_pov_wo_poor_relat_father_fig3['Major_Depressive_Disorder'] == 1])/len(not_in_pov_wo_poor_relat_father_fig3)\n",
        "MDD_1_SDO3 = len(in_pov_and_poor_relat_father_fig3[in_pov_and_poor_relat_father_fig3['Major_Depressive_Disorder'] == 1])/len(in_pov_and_poor_relat_father_fig3) - len(in_pov_wo_poor_relat_father_fig3[in_pov_wo_poor_relat_father_fig3['Major_Depressive_Disorder'] == 1])/len(in_pov_wo_poor_relat_father_fig3)\n",
        "\n",
        "CATE_MDD_income3 = (MDD_1_SDO3 - MDD_0_SDO3)\n",
        "print(CATE_MDD_income3)"
      ],
      "execution_count": 45,
      "outputs": [
        {
          "output_type": "stream",
          "text": [
            "-0.0205659807980052\n"
          ],
          "name": "stdout"
        }
      ]
    },
    {
      "cell_type": "code",
      "metadata": {
        "id": "xwXKROnrYlkT",
        "colab": {
          "base_uri": "https://localhost:8080/"
        },
        "outputId": "d09f0195-6d94-4799-a7e8-47944ea9364f"
      },
      "source": [
        "in_pov_and_poor_relat_father_fig4 = in_poverty3[in_poverty3['How_Much_Love_Man_Gave'] == 1]\n",
        "in_pov_wo_poor_relat_father_fig4 = in_poverty3[in_poverty3['How_Much_Love_Man_Gave'] == 0]\n",
        "not_in_pov_and_poor_relat_father_fig4 = not_in_poverty3[not_in_poverty3['How_Much_Love_Man_Gave'] == 1]\n",
        "not_in_pov_wo_poor_relat_father_fig4 = not_in_poverty3[not_in_poverty3['How_Much_Love_Man_Gave'] == 0]\n",
        "MDD_0_SDO4 = len(not_in_pov_and_poor_relat_father_fig4[not_in_pov_and_poor_relat_father_fig4['Major_Depressive_Disorder'] == 1])/len(not_in_pov_and_poor_relat_father_fig4) - len(not_in_pov_wo_poor_relat_father_fig4[not_in_pov_wo_poor_relat_father_fig4['Major_Depressive_Disorder'] == 1])/len(not_in_pov_wo_poor_relat_father_fig4)\n",
        "MDD_1_SDO4 = len(in_pov_and_poor_relat_father_fig4[in_pov_and_poor_relat_father_fig4['Major_Depressive_Disorder'] == 1])/len(in_pov_and_poor_relat_father_fig4) - len(in_pov_wo_poor_relat_father_fig4[in_pov_wo_poor_relat_father_fig4['Major_Depressive_Disorder'] == 1])/len(in_pov_wo_poor_relat_father_fig4)\n",
        "\n",
        "CATE_MDD_income4 = (MDD_1_SDO4 - MDD_0_SDO4)\n",
        "print(CATE_MDD_income4)"
      ],
      "execution_count": 46,
      "outputs": [
        {
          "output_type": "stream",
          "text": [
            "-0.0035578906966386437\n"
          ],
          "name": "stdout"
        }
      ]
    },
    {
      "cell_type": "code",
      "metadata": {
        "id": "dQLzwm4iYloj",
        "colab": {
          "base_uri": "https://localhost:8080/"
        },
        "outputId": "1d45d1fc-93f2-4456-8761-f59aa5ae4398"
      },
      "source": [
        "in_pov_and_poor_relat_father_fig5 = in_poverty3[in_poverty3['How_Much_Effort_In_Upbringing'] == 1]\n",
        "in_pov_wo_poor_relat_father_fig5 = in_poverty3[in_poverty3['How_Much_Effort_In_Upbringing'] == 0]\n",
        "not_in_pov_and_poor_relat_father_fig5 = not_in_poverty3[not_in_poverty3['How_Much_Effort_In_Upbringing'] == 1]\n",
        "not_in_pov_wo_poor_relat_father_fig5 = not_in_poverty3[not_in_poverty3['How_Much_Effort_In_Upbringing'] == 0]\n",
        "MDD_0_SDO5 = len(not_in_pov_and_poor_relat_father_fig5[not_in_pov_and_poor_relat_father_fig5['Major_Depressive_Disorder'] == 1])/len(not_in_pov_and_poor_relat_father_fig5) - len(not_in_pov_wo_poor_relat_father_fig5[not_in_pov_wo_poor_relat_father_fig5['Major_Depressive_Disorder'] == 1])/len(not_in_pov_wo_poor_relat_father_fig5)\n",
        "MDD_1_SDO5 = len(in_pov_and_poor_relat_father_fig5[in_pov_and_poor_relat_father_fig5['Major_Depressive_Disorder'] == 1])/len(in_pov_and_poor_relat_father_fig5) - len(in_pov_wo_poor_relat_father_fig5[in_pov_wo_poor_relat_father_fig5['Major_Depressive_Disorder'] == 1])/len(in_pov_wo_poor_relat_father_fig5)\n",
        "\n",
        "CATE_MDD_income5 = (MDD_1_SDO5 - MDD_0_SDO5)\n",
        "print(CATE_MDD_income5)"
      ],
      "execution_count": 47,
      "outputs": [
        {
          "output_type": "stream",
          "text": [
            "-0.05400224798142644\n"
          ],
          "name": "stdout"
        }
      ]
    },
    {
      "cell_type": "markdown",
      "metadata": {
        "id": "zNNAqfWEnSnO"
      },
      "source": [
        "### From samples and CATE to ATE"
      ]
    },
    {
      "cell_type": "code",
      "metadata": {
        "id": "3CF4XYf6lLuZ",
        "colab": {
          "base_uri": "https://localhost:8080/"
        },
        "outputId": "73364f1d-feb3-4bb3-c161-98cf6235b822"
      },
      "source": [
        "# Probability of being below the poverty line (household of 4 cutoff)\n",
        "prob_in_pov1 = len(in_poverty)/len(unconf_df)\n",
        "prob_not_in_pov1 = 1 - prob_in_pov1\n",
        "\n",
        "# 'How_Emotionally_Close_With_Father', pov1\n",
        "est_MDD_ATE = (MDD_1_SDO * prob_in_pov1) + (MDD_0_SDO * prob_not_in_pov1)\n",
        "print(est_MDD_ATE)"
      ],
      "execution_count": 48,
      "outputs": [
        {
          "output_type": "stream",
          "text": [
            "0.07771735089047181\n"
          ],
          "name": "stdout"
        }
      ]
    },
    {
      "cell_type": "code",
      "metadata": {
        "id": "AFgCebIHlLxS",
        "colab": {
          "base_uri": "https://localhost:8080/"
        },
        "outputId": "95b44fbb-0d7a-4489-eede-7c0ec928cc03"
      },
      "source": [
        "# 'How_Much_Love_Man_Gave', pov1\n",
        "est_MDD_ATE1 = (MDD_1_SDO1 * prob_in_pov1) + (MDD_0_SDO1 * prob_not_in_pov1)\n",
        "print(est_MDD_ATE1)"
      ],
      "execution_count": 49,
      "outputs": [
        {
          "output_type": "stream",
          "text": [
            "0.07388689953669546\n"
          ],
          "name": "stdout"
        }
      ]
    },
    {
      "cell_type": "code",
      "metadata": {
        "id": "Ss4PEjfSlL0w",
        "colab": {
          "base_uri": "https://localhost:8080/"
        },
        "outputId": "8e6f957c-fe2c-4f49-8e57-00d3a0bcf1df"
      },
      "source": [
        "# 'How_Much_Effort_In_Upbringing', pov1\n",
        "est_MDD_ATE2 = (MDD_1_SDO2 * prob_in_pov1) + (MDD_0_SDO2 * prob_not_in_pov1)\n",
        "print(est_MDD_ATE2)"
      ],
      "execution_count": 50,
      "outputs": [
        {
          "output_type": "stream",
          "text": [
            "0.07348000136567145\n"
          ],
          "name": "stdout"
        }
      ]
    },
    {
      "cell_type": "code",
      "metadata": {
        "id": "6LStaay8lL2u",
        "colab": {
          "base_uri": "https://localhost:8080/"
        },
        "outputId": "825ef572-8ba9-4cbb-b1ca-c4b1db5fc0e0"
      },
      "source": [
        "# Probability of being below the poverty line (household of 1 cutoff)\n",
        "prob_in_pov2 = len(in_poverty3)/len(unconf_df)\n",
        "prob_not_in_pov2 = 1 - prob_in_pov2\n",
        "\n",
        "# 'How_Emotionally_Close_With_Father', pov2\n",
        "est_MDD_ATE3 = (MDD_1_SDO3 * prob_in_pov2) + (MDD_0_SDO3 * prob_not_in_pov2)\n",
        "print(est_MDD_ATE3)"
      ],
      "execution_count": 51,
      "outputs": [
        {
          "output_type": "stream",
          "text": [
            "0.07760356205192452\n"
          ],
          "name": "stdout"
        }
      ]
    },
    {
      "cell_type": "code",
      "metadata": {
        "id": "GTzX1FNalL5P",
        "colab": {
          "base_uri": "https://localhost:8080/"
        },
        "outputId": "dc3aa1d2-a6da-4d52-8694-46d7a83398f8"
      },
      "source": [
        "# 'How_Much_Love_Man_Gave', pov2\n",
        "est_MDD_ATE4 = (MDD_1_SDO4 * prob_in_pov2) + (MDD_0_SDO4 * prob_not_in_pov2)\n",
        "print(est_MDD_ATE4)"
      ],
      "execution_count": 52,
      "outputs": [
        {
          "output_type": "stream",
          "text": [
            "0.07308512865867424\n"
          ],
          "name": "stdout"
        }
      ]
    },
    {
      "cell_type": "code",
      "metadata": {
        "id": "D7iColchm5Te",
        "colab": {
          "base_uri": "https://localhost:8080/"
        },
        "outputId": "6d497987-66b4-4ef0-ed91-63f29014a266"
      },
      "source": [
        "# 'How_Much_Effort_In_Upbringing', pov2\n",
        "est_MDD_ATE5 = (MDD_1_SDO5 * prob_in_pov2) + (MDD_0_SDO5 * prob_not_in_pov2)\n",
        "print(est_MDD_ATE5)"
      ],
      "execution_count": 53,
      "outputs": [
        {
          "output_type": "stream",
          "text": [
            "0.07312232677427967\n"
          ],
          "name": "stdout"
        }
      ]
    },
    {
      "cell_type": "markdown",
      "metadata": {
        "id": "z4hYZUmxn1Oy"
      },
      "source": [
        "### Outcome Regression Analysis"
      ]
    },
    {
      "cell_type": "code",
      "metadata": {
        "id": "g45Tn5Zln0Xj"
      },
      "source": [
        "# Function to fit Logistic Regression Models\n",
        "def fit_log_reg_model(df, target_variable, explanatory_variables):\n",
        "    \"\"\"\n",
        "    Based on function from lab07 Question 1\n",
        "    Fits a logistic regression model from input data.\n",
        "    \n",
        "    Inputs:\n",
        "        df: pandas DataFrame\n",
        "        target_variable: string, name of the target variable\n",
        "        explanatory_variables: list of strings, names of the explanatory variables\n",
        "        intercept: bool, if True add intercept term\n",
        "    Outputs:\n",
        "        fitted_model: model containing OLS regression results\n",
        "    \"\"\"\n",
        "    \n",
        "    target = df[target_variable]\n",
        "    inputs = df[explanatory_variables]\n",
        "    model = LogisticRegression()\n",
        "    fitted_model = model.fit(inputs, target)\n",
        "    return(fitted_model)"
      ],
      "execution_count": 54,
      "outputs": []
    },
    {
      "cell_type": "code",
      "metadata": {
        "id": "NE5X5uTDuPn9",
        "colab": {
          "base_uri": "https://localhost:8080/",
          "height": 426
        },
        "outputId": "304bb82c-ec6a-42ac-86d7-60f14f2023fc"
      },
      "source": [
        "unconf_df[unconf_df['Income']==0]"
      ],
      "execution_count": 55,
      "outputs": [
        {
          "output_type": "execute_result",
          "data": {
            "text/html": [
              "<div>\n",
              "<style scoped>\n",
              "    .dataframe tbody tr th:only-of-type {\n",
              "        vertical-align: middle;\n",
              "    }\n",
              "\n",
              "    .dataframe tbody tr th {\n",
              "        vertical-align: top;\n",
              "    }\n",
              "\n",
              "    .dataframe thead th {\n",
              "        text-align: right;\n",
              "    }\n",
              "</style>\n",
              "<table border=\"1\" class=\"dataframe\">\n",
              "  <thead>\n",
              "    <tr style=\"text-align: right;\">\n",
              "      <th></th>\n",
              "      <th>How_Emotionally_Close_With_Father</th>\n",
              "      <th>How_Much_Love_Man_Gave</th>\n",
              "      <th>How_Much_Effort_In_Upbringing</th>\n",
              "      <th>Major_Depressive_Disorder</th>\n",
              "      <th>Parent_Divorce_Status</th>\n",
              "      <th>FatherMan_+2Weeks_Sadness</th>\n",
              "      <th>Num_Close_Relatives_With_Depression</th>\n",
              "      <th>Race/Ancestry</th>\n",
              "      <th>Region</th>\n",
              "      <th>Age</th>\n",
              "      <th>Income</th>\n",
              "      <th>Father_Sub_Interfere_Growing_Up</th>\n",
              "      <th>Parent_Divorce_status</th>\n",
              "      <th>In_Poverty1</th>\n",
              "      <th>In_Poverty2</th>\n",
              "    </tr>\n",
              "  </thead>\n",
              "  <tbody>\n",
              "    <tr>\n",
              "      <th>4673</th>\n",
              "      <td>1</td>\n",
              "      <td>0</td>\n",
              "      <td>1</td>\n",
              "      <td>0</td>\n",
              "      <td>-1</td>\n",
              "      <td>5</td>\n",
              "      <td>-1</td>\n",
              "      <td>10</td>\n",
              "      <td>1</td>\n",
              "      <td>69</td>\n",
              "      <td>0</td>\n",
              "      <td>4</td>\n",
              "      <td>NaN</td>\n",
              "      <td>1</td>\n",
              "      <td>1</td>\n",
              "    </tr>\n",
              "    <tr>\n",
              "      <th>4676</th>\n",
              "      <td>0</td>\n",
              "      <td>0</td>\n",
              "      <td>0</td>\n",
              "      <td>0</td>\n",
              "      <td>-1</td>\n",
              "      <td>5</td>\n",
              "      <td>-1</td>\n",
              "      <td>11</td>\n",
              "      <td>1</td>\n",
              "      <td>20</td>\n",
              "      <td>0</td>\n",
              "      <td>-1</td>\n",
              "      <td>NaN</td>\n",
              "      <td>1</td>\n",
              "      <td>1</td>\n",
              "    </tr>\n",
              "    <tr>\n",
              "      <th>4762</th>\n",
              "      <td>1</td>\n",
              "      <td>1</td>\n",
              "      <td>0</td>\n",
              "      <td>0</td>\n",
              "      <td>-1</td>\n",
              "      <td>5</td>\n",
              "      <td>-1</td>\n",
              "      <td>8</td>\n",
              "      <td>1</td>\n",
              "      <td>24</td>\n",
              "      <td>0</td>\n",
              "      <td>-1</td>\n",
              "      <td>NaN</td>\n",
              "      <td>1</td>\n",
              "      <td>1</td>\n",
              "    </tr>\n",
              "    <tr>\n",
              "      <th>4955</th>\n",
              "      <td>0</td>\n",
              "      <td>0</td>\n",
              "      <td>0</td>\n",
              "      <td>1</td>\n",
              "      <td>-1</td>\n",
              "      <td>5</td>\n",
              "      <td>-1</td>\n",
              "      <td>10</td>\n",
              "      <td>4</td>\n",
              "      <td>40</td>\n",
              "      <td>0</td>\n",
              "      <td>-1</td>\n",
              "      <td>NaN</td>\n",
              "      <td>1</td>\n",
              "      <td>1</td>\n",
              "    </tr>\n",
              "    <tr>\n",
              "      <th>4989</th>\n",
              "      <td>0</td>\n",
              "      <td>0</td>\n",
              "      <td>0</td>\n",
              "      <td>0</td>\n",
              "      <td>-1</td>\n",
              "      <td>5</td>\n",
              "      <td>-1</td>\n",
              "      <td>11</td>\n",
              "      <td>4</td>\n",
              "      <td>48</td>\n",
              "      <td>0</td>\n",
              "      <td>-1</td>\n",
              "      <td>NaN</td>\n",
              "      <td>1</td>\n",
              "      <td>1</td>\n",
              "    </tr>\n",
              "    <tr>\n",
              "      <th>...</th>\n",
              "      <td>...</td>\n",
              "      <td>...</td>\n",
              "      <td>...</td>\n",
              "      <td>...</td>\n",
              "      <td>...</td>\n",
              "      <td>...</td>\n",
              "      <td>...</td>\n",
              "      <td>...</td>\n",
              "      <td>...</td>\n",
              "      <td>...</td>\n",
              "      <td>...</td>\n",
              "      <td>...</td>\n",
              "      <td>...</td>\n",
              "      <td>...</td>\n",
              "      <td>...</td>\n",
              "    </tr>\n",
              "    <tr>\n",
              "      <th>13224</th>\n",
              "      <td>0</td>\n",
              "      <td>0</td>\n",
              "      <td>0</td>\n",
              "      <td>0</td>\n",
              "      <td>-1</td>\n",
              "      <td>5</td>\n",
              "      <td>-1</td>\n",
              "      <td>11</td>\n",
              "      <td>3</td>\n",
              "      <td>55</td>\n",
              "      <td>0</td>\n",
              "      <td>-1</td>\n",
              "      <td>NaN</td>\n",
              "      <td>1</td>\n",
              "      <td>1</td>\n",
              "    </tr>\n",
              "    <tr>\n",
              "      <th>13559</th>\n",
              "      <td>0</td>\n",
              "      <td>0</td>\n",
              "      <td>0</td>\n",
              "      <td>0</td>\n",
              "      <td>-1</td>\n",
              "      <td>5</td>\n",
              "      <td>-1</td>\n",
              "      <td>12</td>\n",
              "      <td>3</td>\n",
              "      <td>35</td>\n",
              "      <td>0</td>\n",
              "      <td>-1</td>\n",
              "      <td>NaN</td>\n",
              "      <td>1</td>\n",
              "      <td>1</td>\n",
              "    </tr>\n",
              "    <tr>\n",
              "      <th>13692</th>\n",
              "      <td>0</td>\n",
              "      <td>0</td>\n",
              "      <td>0</td>\n",
              "      <td>0</td>\n",
              "      <td>-1</td>\n",
              "      <td>5</td>\n",
              "      <td>-1</td>\n",
              "      <td>11</td>\n",
              "      <td>4</td>\n",
              "      <td>22</td>\n",
              "      <td>0</td>\n",
              "      <td>-1</td>\n",
              "      <td>NaN</td>\n",
              "      <td>1</td>\n",
              "      <td>1</td>\n",
              "    </tr>\n",
              "    <tr>\n",
              "      <th>13713</th>\n",
              "      <td>0</td>\n",
              "      <td>0</td>\n",
              "      <td>0</td>\n",
              "      <td>1</td>\n",
              "      <td>-1</td>\n",
              "      <td>5</td>\n",
              "      <td>-1</td>\n",
              "      <td>11</td>\n",
              "      <td>4</td>\n",
              "      <td>44</td>\n",
              "      <td>0</td>\n",
              "      <td>-1</td>\n",
              "      <td>NaN</td>\n",
              "      <td>1</td>\n",
              "      <td>1</td>\n",
              "    </tr>\n",
              "    <tr>\n",
              "      <th>13835</th>\n",
              "      <td>1</td>\n",
              "      <td>0</td>\n",
              "      <td>0</td>\n",
              "      <td>1</td>\n",
              "      <td>-1</td>\n",
              "      <td>5</td>\n",
              "      <td>-1</td>\n",
              "      <td>12</td>\n",
              "      <td>4</td>\n",
              "      <td>27</td>\n",
              "      <td>0</td>\n",
              "      <td>-1</td>\n",
              "      <td>NaN</td>\n",
              "      <td>1</td>\n",
              "      <td>1</td>\n",
              "    </tr>\n",
              "  </tbody>\n",
              "</table>\n",
              "<p>61 rows × 15 columns</p>\n",
              "</div>"
            ],
            "text/plain": [
              "       How_Emotionally_Close_With_Father  ...  In_Poverty2\n",
              "4673                                   1  ...            1\n",
              "4676                                   0  ...            1\n",
              "4762                                   1  ...            1\n",
              "4955                                   0  ...            1\n",
              "4989                                   0  ...            1\n",
              "...                                  ...  ...          ...\n",
              "13224                                  0  ...            1\n",
              "13559                                  0  ...            1\n",
              "13692                                  0  ...            1\n",
              "13713                                  0  ...            1\n",
              "13835                                  1  ...            1\n",
              "\n",
              "[61 rows x 15 columns]"
            ]
          },
          "metadata": {
            "tags": []
          },
          "execution_count": 55
        }
      ]
    },
    {
      "cell_type": "code",
      "metadata": {
        "id": "m4cZ5V1Ym5Zd",
        "colab": {
          "base_uri": "https://localhost:8080/"
        },
        "outputId": "ce5ce31e-50d3-443a-b19a-200efaf8d6e9"
      },
      "source": [
        "# Computing the logistic regression estimators for having a poor relationship ones father, pov1\n",
        "log_model = fit_log_reg_model(unconf_df, 'Major_Depressive_Disorder', ['How_Emotionally_Close_With_Father','In_Poverty1'])\n",
        "logs = log_model.coef_[0]\n",
        "\n",
        "log_model1 = fit_log_reg_model(unconf_df, 'Major_Depressive_Disorder', ['How_Much_Love_Man_Gave', 'In_Poverty1'])\n",
        "logs1 = log_model1.coef_[0]\n",
        "\n",
        "log_model2 = fit_log_reg_model(unconf_df, 'Major_Depressive_Disorder', ['How_Much_Effort_In_Upbringing', 'In_Poverty1'])\n",
        "logs2 = log_model2.coef_[0]\n",
        "\n",
        "log_model3 = fit_log_reg_model(unconf_df, 'Major_Depressive_Disorder', ['How_Emotionally_Close_With_Father','In_Poverty2'])\n",
        "logs3 = log_model3.coef_[0]\n",
        "\n",
        "log_model4 = fit_log_reg_model(unconf_df, 'Major_Depressive_Disorder', ['How_Much_Love_Man_Gave', 'In_Poverty2'])\n",
        "logs4 = log_model4.coef_[0]\n",
        "\n",
        "log_model5 = fit_log_reg_model(unconf_df, 'Major_Depressive_Disorder', ['How_Much_Effort_In_Upbringing', 'In_Poverty2'])\n",
        "logs5 = log_model5.coef_[0]\n",
        "\n",
        "print('For \"In Poverty1\" :')\n",
        "print(\"The estimated causal effect on the likelihood of having an MDD diagnosis of emotional closeness with one's father figure is\", logs[0].astype(str))\n",
        "print(\"The estimated causal effect on the likelihood of having an MDD diagnosis of poverty\", logs[1].astype(str))\n",
        "print(\"The estimated causal effect on the likelihood of having an MDD diagnosis of love given by one's father figure is\", logs1[0].astype(str))\n",
        "print(\"The estimated causal effect on the likelihood of having an MDD diagnosis of poverty\", logs1[1].astype(str))\n",
        "print(\"The estimated causal effect on the likelihood of having an MDD diagnosis of father figure's effort in one's upbringing\", logs2[0].astype(str))\n",
        "print(\"The estimated causal effect on the likelihood of having an MDD diagnosis of poverty\", logs2[1].astype(str))\n",
        "\n",
        "print('For \"In Poverty2\" :')\n",
        "print(\"The estimated causal effect on the likelihood of having an MDD diagnosis of emotional closeness with one's father figure is\", logs3[0].astype(str))\n",
        "print(\"The estimated causal effect on the likelihood of having an MDD diagnosis of poverty\", logs3[1].astype(str))\n",
        "print(\"The estimated causal effect on the likelihood of having an MDD diagnosis of love given by one's father figure is\", logs4[0].astype(str))\n",
        "print(\"The estimated causal effect on the likelihood of having an MDD diagnosis of poverty\", logs4[1].astype(str))\n",
        "print(\"The estimated causal effect on the likelihood of having an MDD diagnosis of father figure's effort in one's upbringing\", logs5[0].astype(str))\n",
        "print(\"The estimated causal effect on the likelihood of having an MDD diagnosis of poverty\", logs5[1].astype(str))"
      ],
      "execution_count": 56,
      "outputs": [
        {
          "output_type": "stream",
          "text": [
            "For \"In Poverty1\" :\n",
            "The estimated causal effect on the likelihood of having an MDD diagnosis of emotional closeness with one's father figure is 0.3710822791765904\n",
            "The estimated causal effect on the likelihood of having an MDD diagnosis of poverty -0.030875475805175044\n",
            "The estimated causal effect on the likelihood of having an MDD diagnosis of love given by one's father figure is 0.35066624714912437\n",
            "The estimated causal effect on the likelihood of having an MDD diagnosis of poverty -0.037276452527704756\n",
            "The estimated causal effect on the likelihood of having an MDD diagnosis of father figure's effort in one's upbringing 0.34479353825573644\n",
            "The estimated causal effect on the likelihood of having an MDD diagnosis of poverty -0.0353815940866723\n",
            "For \"In Poverty2\" :\n",
            "The estimated causal effect on the likelihood of having an MDD diagnosis of emotional closeness with one's father figure is 0.3712550541690324\n",
            "The estimated causal effect on the likelihood of having an MDD diagnosis of poverty 0.043753329120481514\n",
            "The estimated causal effect on the likelihood of having an MDD diagnosis of love given by one's father figure is 0.349840797529732\n",
            "The estimated causal effect on the likelihood of having an MDD diagnosis of poverty 0.035735463753688426\n",
            "The estimated causal effect on the likelihood of having an MDD diagnosis of father figure's effort in one's upbringing 0.3436284681203921\n",
            "The estimated causal effect on the likelihood of having an MDD diagnosis of poverty 0.027975336714816234\n"
          ],
          "name": "stdout"
        }
      ]
    },
    {
      "cell_type": "code",
      "metadata": {
        "id": "rnQgKeap41GG",
        "colab": {
          "base_uri": "https://localhost:8080/",
          "height": 234
        },
        "outputId": "fcc55443-9930-4e61-f3a5-46f3ded509db"
      },
      "source": [
        "unconf_df['Income (in thousands)'] = unconf_df['Income']/1000\n",
        "\n",
        "unconf_df.head()"
      ],
      "execution_count": 57,
      "outputs": [
        {
          "output_type": "execute_result",
          "data": {
            "text/html": [
              "<div>\n",
              "<style scoped>\n",
              "    .dataframe tbody tr th:only-of-type {\n",
              "        vertical-align: middle;\n",
              "    }\n",
              "\n",
              "    .dataframe tbody tr th {\n",
              "        vertical-align: top;\n",
              "    }\n",
              "\n",
              "    .dataframe thead th {\n",
              "        text-align: right;\n",
              "    }\n",
              "</style>\n",
              "<table border=\"1\" class=\"dataframe\">\n",
              "  <thead>\n",
              "    <tr style=\"text-align: right;\">\n",
              "      <th></th>\n",
              "      <th>How_Emotionally_Close_With_Father</th>\n",
              "      <th>How_Much_Love_Man_Gave</th>\n",
              "      <th>How_Much_Effort_In_Upbringing</th>\n",
              "      <th>Major_Depressive_Disorder</th>\n",
              "      <th>Parent_Divorce_Status</th>\n",
              "      <th>FatherMan_+2Weeks_Sadness</th>\n",
              "      <th>Num_Close_Relatives_With_Depression</th>\n",
              "      <th>Race/Ancestry</th>\n",
              "      <th>Region</th>\n",
              "      <th>Age</th>\n",
              "      <th>Income</th>\n",
              "      <th>Father_Sub_Interfere_Growing_Up</th>\n",
              "      <th>Parent_Divorce_status</th>\n",
              "      <th>In_Poverty1</th>\n",
              "      <th>In_Poverty2</th>\n",
              "      <th>Income (in thousands)</th>\n",
              "    </tr>\n",
              "  </thead>\n",
              "  <tbody>\n",
              "    <tr>\n",
              "      <th>4649</th>\n",
              "      <td>0</td>\n",
              "      <td>0</td>\n",
              "      <td>0</td>\n",
              "      <td>1</td>\n",
              "      <td>-1</td>\n",
              "      <td>5</td>\n",
              "      <td>-1</td>\n",
              "      <td>8</td>\n",
              "      <td>1</td>\n",
              "      <td>41</td>\n",
              "      <td>125500</td>\n",
              "      <td>-1</td>\n",
              "      <td>NaN</td>\n",
              "      <td>0</td>\n",
              "      <td>0</td>\n",
              "      <td>125.5</td>\n",
              "    </tr>\n",
              "    <tr>\n",
              "      <th>4651</th>\n",
              "      <td>0</td>\n",
              "      <td>1</td>\n",
              "      <td>0</td>\n",
              "      <td>0</td>\n",
              "      <td>-1</td>\n",
              "      <td>5</td>\n",
              "      <td>-1</td>\n",
              "      <td>11</td>\n",
              "      <td>1</td>\n",
              "      <td>79</td>\n",
              "      <td>15500</td>\n",
              "      <td>-1</td>\n",
              "      <td>NaN</td>\n",
              "      <td>1</td>\n",
              "      <td>0</td>\n",
              "      <td>15.5</td>\n",
              "    </tr>\n",
              "    <tr>\n",
              "      <th>4655</th>\n",
              "      <td>0</td>\n",
              "      <td>0</td>\n",
              "      <td>0</td>\n",
              "      <td>0</td>\n",
              "      <td>-1</td>\n",
              "      <td>5</td>\n",
              "      <td>-1</td>\n",
              "      <td>11</td>\n",
              "      <td>1</td>\n",
              "      <td>30</td>\n",
              "      <td>150000</td>\n",
              "      <td>-1</td>\n",
              "      <td>NaN</td>\n",
              "      <td>0</td>\n",
              "      <td>0</td>\n",
              "      <td>150.0</td>\n",
              "    </tr>\n",
              "    <tr>\n",
              "      <th>4656</th>\n",
              "      <td>0</td>\n",
              "      <td>0</td>\n",
              "      <td>0</td>\n",
              "      <td>0</td>\n",
              "      <td>-1</td>\n",
              "      <td>5</td>\n",
              "      <td>-1</td>\n",
              "      <td>11</td>\n",
              "      <td>1</td>\n",
              "      <td>65</td>\n",
              "      <td>40500</td>\n",
              "      <td>-1</td>\n",
              "      <td>NaN</td>\n",
              "      <td>0</td>\n",
              "      <td>0</td>\n",
              "      <td>40.5</td>\n",
              "    </tr>\n",
              "    <tr>\n",
              "      <th>4661</th>\n",
              "      <td>0</td>\n",
              "      <td>0</td>\n",
              "      <td>0</td>\n",
              "      <td>0</td>\n",
              "      <td>-1</td>\n",
              "      <td>5</td>\n",
              "      <td>-1</td>\n",
              "      <td>10</td>\n",
              "      <td>1</td>\n",
              "      <td>47</td>\n",
              "      <td>9000</td>\n",
              "      <td>-1</td>\n",
              "      <td>NaN</td>\n",
              "      <td>1</td>\n",
              "      <td>0</td>\n",
              "      <td>9.0</td>\n",
              "    </tr>\n",
              "  </tbody>\n",
              "</table>\n",
              "</div>"
            ],
            "text/plain": [
              "      How_Emotionally_Close_With_Father  ...  Income (in thousands)\n",
              "4649                                  0  ...                  125.5\n",
              "4651                                  0  ...                   15.5\n",
              "4655                                  0  ...                  150.0\n",
              "4656                                  0  ...                   40.5\n",
              "4661                                  0  ...                    9.0\n",
              "\n",
              "[5 rows x 16 columns]"
            ]
          },
          "metadata": {
            "tags": []
          },
          "execution_count": 57
        }
      ]
    },
    {
      "cell_type": "code",
      "metadata": {
        "id": "LnLwlAHxnrmm",
        "colab": {
          "base_uri": "https://localhost:8080/"
        },
        "outputId": "a33f069e-636f-47d1-854f-45cec106343c"
      },
      "source": [
        "# Computing the logistic regression estimators for having a poor relationship ones father, income (in thousands)\n",
        "unconf_df['Income (in thousands)'] = unconf_df['Income']/1000\n",
        "\n",
        "log_model6 = fit_log_reg_model(unconf_df, 'Major_Depressive_Disorder', ['How_Emotionally_Close_With_Father','Income (in thousands)'])\n",
        "logs6 = log_model6.coef_[0]\n",
        "\n",
        "log_model7 = fit_log_reg_model(unconf_df, 'Major_Depressive_Disorder', ['How_Much_Love_Man_Gave', 'Income (in thousands)'])\n",
        "logs7 = log_model7.coef_[0]\n",
        "\n",
        "log_mode8 = fit_log_reg_model(unconf_df, 'Major_Depressive_Disorder', ['How_Much_Effort_In_Upbringing', 'Income (in thousands)'])\n",
        "logs8 = log_mode8.coef_[0]\n",
        "\n",
        "print(\"The estimated causal effect on the likelihood of having an MDD diagnosis of an additional reported unit of emotional closeness with one's father figure is\", logs6[0].astype(str))\n",
        "print(\"The estimated causal effect on the likelihood of having an MDD diagnosis of an additional reported unit of income (in thousands)\", logs6[1].astype(str))\n",
        "print(\"The estimated causal effect on the likelihood of having an MDD diagnosis of an additional reported unit of love given by one's father figure is\", logs7[0].astype(str))\n",
        "print(\"The estimated causal effect on the likelihood of having an MDD diagnosis of an additional reported unit of income (in thousands)\", logs7[1].astype(str))\n",
        "print(\"The estimated causal effect on the likelihood of having an MDD diagnosis of an additional reported unit of father figure's effort in one's upbringing\", logs8[0].astype(str))\n",
        "print(\"The estimated causal effect on the likelihood of having an MDD diagnosis of an additional reported unit of income (in thousands)\", logs8[1].astype(str))"
      ],
      "execution_count": 58,
      "outputs": [
        {
          "output_type": "stream",
          "text": [
            "The estimated causal effect on the likelihood of having an MDD diagnosis of an additional reported unit of emotional closeness with one's father figure is 0.3708879335609694\n",
            "The estimated causal effect on the likelihood of having an MDD diagnosis of an additional reported unit of income (in thousands) 0.00019614443906214874\n",
            "The estimated causal effect on the likelihood of having an MDD diagnosis of an additional reported unit of love given by one's father figure is 0.3504400852911911\n",
            "The estimated causal effect on the likelihood of having an MDD diagnosis of an additional reported unit of income (in thousands) 0.0002571882384583746\n",
            "The estimated causal effect on the likelihood of having an MDD diagnosis of an additional reported unit of father figure's effort in one's upbringing 0.34429112069225093\n",
            "The estimated causal effect on the likelihood of having an MDD diagnosis of an additional reported unit of income (in thousands) 0.0002241594435459331\n"
          ],
          "name": "stdout"
        }
      ]
    },
    {
      "cell_type": "markdown",
      "metadata": {
        "id": "zEUQybr8hoP-"
      },
      "source": [
        "### A Note on Instrumental Variables"
      ]
    },
    {
      "cell_type": "markdown",
      "metadata": {
        "id": "QrnCXrOvLCpa"
      },
      "source": [
        "Instrumental Variable Approach: unconfoundedness assumption is no longer considered. Not the case here but to verify we consider it."
      ]
    },
    {
      "cell_type": "markdown",
      "metadata": {
        "id": "7454s2ByLCpa"
      },
      "source": [
        "Instrumental variable W: affects father's love/care/relationship but not income and not depression (directly). 1 = a lot, 4 = not at all IE negative association with treatment. Reference: https://childandfamilyresearch.utexas.edu/evidence-base-predictors-father-involvement "
      ]
    },
    {
      "cell_type": "code",
      "metadata": {
        "id": "oOU5jiBgLCpa"
      },
      "source": [
        "#Note Z and Y positive association. 1 = not close --> 1 = depression. 4(little effort) --> 1 = little effort --> 1=depr."
      ],
      "execution_count": 59,
      "outputs": []
    },
    {
      "cell_type": "code",
      "metadata": {
        "id": "8jwN5KLrLCpb",
        "colab": {
          "base_uri": "https://localhost:8080/",
          "height": 197
        },
        "outputId": "986ff8e8-e7fc-4a0f-aae4-e154c63108f4"
      },
      "source": [
        "iv_df = third_df[['Major_Depressive_Disorder', 'How_Emotionally_Close_With_Father', \n",
        "                      'How_Much_Love_Man_Gave', 'How_Much_Effort_In_Upbringing', \n",
        "                  'Father_Sub_Interfere_Growing_Up', 'Income']][third_df['Major_Depressive_Disorder'] >-1]\n",
        "\n",
        "iv_df = iv_df[iv_df['How_Emotionally_Close_With_Father'] >-1]\n",
        "iv_df = iv_df[iv_df['How_Much_Love_Man_Gave'] >-1]\n",
        "iv_df = iv_df[iv_df['How_Much_Effort_In_Upbringing'] >-1]\n",
        "iv_df = iv_df[iv_df['Father_Sub_Interfere_Growing_Up'] >-1]\n",
        "iv_df = iv_df[iv_df['Income'] >-1]\n",
        "\n",
        "\n",
        "iv_df['How_Emotionally_Close_With_Father'] = iv_df[['How_Emotionally_Close_With_Father']].applymap(bin_func)\n",
        "iv_df['How_Much_Love_Man_Gave'] = iv_df[['How_Much_Love_Man_Gave']].applymap(bin_func)\n",
        "iv_df['How_Much_Effort_In_Upbringing'] = iv_df[['How_Much_Effort_In_Upbringing']].applymap(bin_func)\n",
        "iv_df['Father_Sub_Interfere_Growing_Up'] = iv_df[['Father_Sub_Interfere_Growing_Up']].applymap(bin_func)\n",
        "iv_df['Income'] = iv_df['Income']/1000 #Income measured in thousand $\n",
        "iv_df.head()"
      ],
      "execution_count": 60,
      "outputs": [
        {
          "output_type": "execute_result",
          "data": {
            "text/html": [
              "<div>\n",
              "<style scoped>\n",
              "    .dataframe tbody tr th:only-of-type {\n",
              "        vertical-align: middle;\n",
              "    }\n",
              "\n",
              "    .dataframe tbody tr th {\n",
              "        vertical-align: top;\n",
              "    }\n",
              "\n",
              "    .dataframe thead th {\n",
              "        text-align: right;\n",
              "    }\n",
              "</style>\n",
              "<table border=\"1\" class=\"dataframe\">\n",
              "  <thead>\n",
              "    <tr style=\"text-align: right;\">\n",
              "      <th></th>\n",
              "      <th>Major_Depressive_Disorder</th>\n",
              "      <th>How_Emotionally_Close_With_Father</th>\n",
              "      <th>How_Much_Love_Man_Gave</th>\n",
              "      <th>How_Much_Effort_In_Upbringing</th>\n",
              "      <th>Father_Sub_Interfere_Growing_Up</th>\n",
              "      <th>Income</th>\n",
              "    </tr>\n",
              "  </thead>\n",
              "  <tbody>\n",
              "    <tr>\n",
              "      <th>4666</th>\n",
              "      <td>0</td>\n",
              "      <td>0</td>\n",
              "      <td>0</td>\n",
              "      <td>0</td>\n",
              "      <td>1</td>\n",
              "      <td>85.0</td>\n",
              "    </tr>\n",
              "    <tr>\n",
              "      <th>4673</th>\n",
              "      <td>0</td>\n",
              "      <td>1</td>\n",
              "      <td>0</td>\n",
              "      <td>1</td>\n",
              "      <td>1</td>\n",
              "      <td>0.0</td>\n",
              "    </tr>\n",
              "    <tr>\n",
              "      <th>4697</th>\n",
              "      <td>1</td>\n",
              "      <td>1</td>\n",
              "      <td>0</td>\n",
              "      <td>0</td>\n",
              "      <td>1</td>\n",
              "      <td>84.5</td>\n",
              "    </tr>\n",
              "    <tr>\n",
              "      <th>4738</th>\n",
              "      <td>1</td>\n",
              "      <td>1</td>\n",
              "      <td>1</td>\n",
              "      <td>0</td>\n",
              "      <td>0</td>\n",
              "      <td>70.5</td>\n",
              "    </tr>\n",
              "    <tr>\n",
              "      <th>4764</th>\n",
              "      <td>0</td>\n",
              "      <td>1</td>\n",
              "      <td>1</td>\n",
              "      <td>1</td>\n",
              "      <td>0</td>\n",
              "      <td>29.0</td>\n",
              "    </tr>\n",
              "  </tbody>\n",
              "</table>\n",
              "</div>"
            ],
            "text/plain": [
              "      Major_Depressive_Disorder  ...  Income\n",
              "4666                          0  ...    85.0\n",
              "4673                          0  ...     0.0\n",
              "4697                          1  ...    84.5\n",
              "4738                          1  ...    70.5\n",
              "4764                          0  ...    29.0\n",
              "\n",
              "[5 rows x 6 columns]"
            ]
          },
          "metadata": {
            "tags": []
          },
          "execution_count": 60
        }
      ]
    },
    {
      "cell_type": "code",
      "metadata": {
        "id": "khcPnAOOLCpb",
        "colab": {
          "base_uri": "https://localhost:8080/"
        },
        "outputId": "a41335e9-b210-466a-cb51-c00e6df8219a"
      },
      "source": [
        "iv_df.shape"
      ],
      "execution_count": 61,
      "outputs": [
        {
          "output_type": "execute_result",
          "data": {
            "text/plain": [
              "(1156, 6)"
            ]
          },
          "metadata": {
            "tags": []
          },
          "execution_count": 61
        }
      ]
    },
    {
      "cell_type": "markdown",
      "metadata": {
        "id": "9ASTF1hZLFWZ"
      },
      "source": [
        "When $W$ is binary,\n",
        "$$\n",
        "\\tau = \\frac{\\mathbb{E}[Y|W=1] - \\mathbb{E}[Y|W=0]}{\\mathbb{E}[Z|W=1] - \\mathbb{E}[Z|W=0]}.\n",
        "$$\n"
      ]
    },
    {
      "cell_type": "code",
      "metadata": {
        "id": "9Z7i1tEn9he0",
        "colab": {
          "base_uri": "https://localhost:8080/"
        },
        "outputId": "b04407fd-04d3-46e0-bd63-701cb5be1cd8"
      },
      "source": [
        "#instrumental variable estimator of the ATE:\n",
        "\n",
        "y_w_1 = len(iv_df[(iv_df['Major_Depressive_Disorder'] == 1) & (iv_df['Father_Sub_Interfere_Growing_Up']==1)])/len(iv_df['Father_Sub_Interfere_Growing_Up']==1)\n",
        "y_w_0 = len(iv_df[(iv_df['Major_Depressive_Disorder'] == 1) & (iv_df['Father_Sub_Interfere_Growing_Up']==0)])/len(iv_df['Father_Sub_Interfere_Growing_Up']==0)\n",
        "z_w_1 = len(iv_df[(iv_df['How_Much_Effort_In_Upbringing'] == 1) & (iv_df['Father_Sub_Interfere_Growing_Up']==1)])/len(iv_df['Father_Sub_Interfere_Growing_Up']==1)\n",
        "z_w_0 = len(iv_df[(iv_df['How_Much_Effort_In_Upbringing'] == 1) & (iv_df['Father_Sub_Interfere_Growing_Up']==0)])/len(iv_df['Father_Sub_Interfere_Growing_Up']==0)\n",
        "\n",
        "iv_ate = (y_w_1 - y_w_0)/(z_w_1 - z_w_0)\n",
        "iv_ate"
      ],
      "execution_count": 62,
      "outputs": [
        {
          "output_type": "execute_result",
          "data": {
            "text/plain": [
              "0.5089820359281436"
            ]
          },
          "metadata": {
            "tags": []
          },
          "execution_count": 62
        }
      ]
    },
    {
      "cell_type": "markdown",
      "metadata": {
        "id": "tIrES-2gijeL"
      },
      "source": [
        "This number does not make much sense because our circumstances do not meet the necessary assumptions."
      ]
    },
    {
      "cell_type": "markdown",
      "metadata": {
        "id": "K0-xtuOEirA9"
      },
      "source": [
        "##End"
      ]
    },
    {
      "cell_type": "code",
      "metadata": {
        "id": "8ZbaaIjjir95"
      },
      "source": [
        ""
      ],
      "execution_count": 62,
      "outputs": []
    }
  ]
}